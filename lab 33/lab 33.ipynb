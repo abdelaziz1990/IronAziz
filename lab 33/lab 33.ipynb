{
 "cells": [
  {
   "cell_type": "code",
   "execution_count": 6,
   "id": "3eb68f32",
   "metadata": {},
   "outputs": [],
   "source": [
    "#Step 1: Use the requests library to retrieve the content from the URL below.\n",
    "\n",
    "    \n",
    "import requests\n",
    "\n",
    "url = 'https://en.wikipedia.org/wiki/Data_science'\n",
    "\n",
    "Data = requests.get(url).content\n"
   ]
  },
  {
   "cell_type": "code",
   "execution_count": 16,
   "id": "5794898b",
   "metadata": {},
   "outputs": [
    {
     "data": {
      "text/plain": [
       "91"
      ]
     },
     "execution_count": 16,
     "metadata": {},
     "output_type": "execute_result"
    }
   ],
   "source": [
    "#Step 2: Use BeautifulSoup to extract a list of all the unique links on the page.\n",
    "from bs4 import BeautifulSoup\n",
    "soup = BeautifulSoup(Data, 'html.parser')\n",
    "all_links = [a['href'] for a in soup.select('a[href^=\"http\"]')]\n",
    "   \n",
    "all_unique_links = set(all_links)\n",
    "len(all_unique_links)"
   ]
  },
  {
   "cell_type": "code",
   "execution_count": 43,
   "id": "4972a050",
   "metadata": {},
   "outputs": [],
   "source": [
    "#Step 3: Use list comprehensions with conditions to clean the link list.\n",
    "domain = 'http://wikipedia.org'\n",
    "request = requests.get(domain)\n",
    "soup = BeautifulSoup(request.text, 'html.parser')\n",
    "links = soup.select('a')\n",
    "for link in links:\n",
    "    print(link.get_text())\n",
    "    if link.get('href') != None:\n",
    "        if 'https://' in link.get('href'):\n",
    "             print(link.get('href'))\n",
    "    else:\n",
    "        print('https://en.wikipedia.org' + link.get('href')) # Convert relative URL to absolute URL\n",
    "        \n",
    "        \n",
    "print('----------------------------') # Just a line break\n",
    "\n"
   ]
  },
  {
   "cell_type": "code",
   "execution_count": 46,
   "id": "1c239a6d",
   "metadata": {},
   "outputs": [
    {
     "ename": "FileExistsError",
     "evalue": "[WinError 183] Impossible de créer un fichier déjà existant: 'wikipedia'",
     "output_type": "error",
     "traceback": [
      "\u001b[1;31m---------------------------------------------------------------------------\u001b[0m",
      "\u001b[1;31mFileExistsError\u001b[0m                           Traceback (most recent call last)",
      "\u001b[1;32m~\\AppData\\Local\\Temp/ipykernel_19132/3500304743.py\u001b[0m in \u001b[0;36m<module>\u001b[1;34m\u001b[0m\n\u001b[0;32m      1\u001b[0m \u001b[1;31m#Step 4: Use the os library to create a folder called wikipedia and make that the current working directory.\u001b[0m\u001b[1;33m\u001b[0m\u001b[1;33m\u001b[0m\u001b[0m\n\u001b[0;32m      2\u001b[0m \u001b[1;32mimport\u001b[0m \u001b[0mos\u001b[0m\u001b[1;33m\u001b[0m\u001b[1;33m\u001b[0m\u001b[0m\n\u001b[1;32m----> 3\u001b[1;33m \u001b[0mos\u001b[0m\u001b[1;33m.\u001b[0m\u001b[0mmkdir\u001b[0m\u001b[1;33m(\u001b[0m\u001b[1;34m'wikipedia'\u001b[0m\u001b[1;33m)\u001b[0m\u001b[1;33m\u001b[0m\u001b[1;33m\u001b[0m\u001b[0m\n\u001b[0m",
      "\u001b[1;31mFileExistsError\u001b[0m: [WinError 183] Impossible de créer un fichier déjà existant: 'wikipedia'"
     ]
    }
   ],
   "source": [
    "#Step 4: Use the os library to create a folder called wikipedia and make that the current working directory.\n",
    "import os\n",
    "os.mkdir('wikipedia')\n"
   ]
  },
  {
   "cell_type": "code",
   "execution_count": 55,
   "id": "c8b25bf0",
   "metadata": {},
   "outputs": [],
   "source": [
    "#Step 5: Write a function called index_page that accepts a link and does the following.\n"
   ]
  },
  {
   "cell_type": "code",
   "execution_count": 56,
   "id": "fd53b6cc",
   "metadata": {},
   "outputs": [
    {
     "name": "stdout",
     "output_type": "stream",
     "text": [
      "Collecting slugify\n",
      "  Downloading slugify-0.0.1.tar.gz (1.2 kB)Note: you may need to restart the kernel to use updated packages.\n",
      "\n",
      "Building wheels for collected packages: slugify\n",
      "  Building wheel for slugify (setup.py): started\n",
      "  Building wheel for slugify (setup.py): finished with status 'done'\n",
      "  Created wheel for slugify: filename=slugify-0.0.1-py3-none-any.whl size=1908 sha256=2051079e556127b99584b203a2edf5cf310a2f672150bda94e426c964f12683a\n",
      "  Stored in directory: c:\\users\\mtime\\appdata\\local\\pip\\cache\\wheels\\16\\e9\\cf\\a1b36ec321a4421dddc0e442d305105b486b9e1f27e8c1b9c0\n",
      "Successfully built slugify\n",
      "Installing collected packages: slugify\n",
      "Successfully installed slugify-0.0.1\n"
     ]
    }
   ],
   "source": [
    "pip install slugify"
   ]
  },
  {
   "cell_type": "code",
   "execution_count": 65,
   "id": "08a97bcd",
   "metadata": {},
   "outputs": [],
   "source": [
    "from slugify import slugify\n"
   ]
  },
  {
   "cell_type": "code",
   "execution_count": 67,
   "id": "1a12e5b9",
   "metadata": {},
   "outputs": [],
   "source": [
    "def slugify_params(args):\n",
    "    return dict(\n",
    "        text=args.input_string,\n",
    "        entities=args.entities,\n",
    "        decimal=args.decimal,\n",
    "        hexadecimal=args.hexadecimal,\n",
    "        max_length=args.max_length,\n",
    "        word_boundary=args.word_boundary,\n",
    "        save_order=args.save_order,\n",
    "        separator=args.separator,\n",
    "        stopwords=args.stopwords,\n",
    "        lowercase=args.lowercase,\n",
    "        replacements=args.replacements\n",
    "    )"
   ]
  },
  {
   "cell_type": "code",
   "execution_count": null,
   "id": "7b11dd0d",
   "metadata": {},
   "outputs": [],
   "source": []
  }
 ],
 "metadata": {
  "kernelspec": {
   "display_name": "Python 3 (ipykernel)",
   "language": "python",
   "name": "python3"
  },
  "language_info": {
   "codemirror_mode": {
    "name": "ipython",
    "version": 3
   },
   "file_extension": ".py",
   "mimetype": "text/x-python",
   "name": "python",
   "nbconvert_exporter": "python",
   "pygments_lexer": "ipython3",
   "version": "3.9.7"
  }
 },
 "nbformat": 4,
 "nbformat_minor": 5
}
