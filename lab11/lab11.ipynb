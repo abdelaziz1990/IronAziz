{
 "cells": [
  {
   "cell_type": "code",
   "execution_count": 30,
   "id": "475e9483",
   "metadata": {},
   "outputs": [
    {
     "name": "stdout",
     "output_type": "stream",
     "text": [
      "[2, 2, 4]\n"
     ]
    }
   ],
   "source": [
    "integer_list =  [1, 1, 2 ,3 ,1 ,2 ,3 ,4]\n",
    "values_list = [1, 3]\n",
    "list1 = [el for el in integer_list if el not in values_list]\n",
    "print(list1)"
   ]
  },
  {
   "cell_type": "code",
   "execution_count": 40,
   "id": "a6426195",
   "metadata": {},
   "outputs": [
    {
     "data": {
      "text/plain": [
       "[(1, 3), (3, 2)]"
      ]
     },
     "execution_count": 40,
     "metadata": {},
     "output_type": "execute_result"
    }
   ],
   "source": [
    "from collections import Counter\n",
    "integer_list =  [1, 1, 2 ,3 ,1 ,2 ,3 ,4]\n",
    "values_list = [1, 3]\n",
    "def count_spec_digits(integers_list, digits_list):\n",
    "        counter = Counter(''.join(map(str, integers_list)))\n",
    "        return [(digit, counter[str(digit)]) for digit in digits_list]\n",
    "count_spec_digits(integer_list, values_list)"
   ]
  },
  {
   "cell_type": "code",
   "execution_count": 43,
   "id": "cbb6b656",
   "metadata": {},
   "outputs": [
    {
     "data": {
      "text/plain": [
       "[('a', 3), ('f', 1), ('r', 1), ('e', 1), ('d', 1), ('s', 1), ('k', 1)]"
      ]
     },
     "execution_count": 43,
     "metadata": {},
     "output_type": "execute_result"
    }
   ],
   "source": [
    "inp = 'aaafredsk'\n",
    "\n",
    "def ordered_count_char(inp):\n",
    "    list1 = []\n",
    "    list2 = []\n",
    "    for char in inp:\n",
    "        if char not in list2:\n",
    "            list1.append((char, inp.count(char)))\n",
    "            list2.append(char)\n",
    "    return list1\n",
    "ordered_count(inp)\n",
    "\n",
    "    \n",
    "    "
   ]
  },
  {
   "cell_type": "code",
   "execution_count": null,
   "id": "a250ab6f",
   "metadata": {},
   "outputs": [],
   "source": []
  }
 ],
 "metadata": {
  "kernelspec": {
   "display_name": "Python 3",
   "language": "python",
   "name": "python3"
  },
  "language_info": {
   "codemirror_mode": {
    "name": "ipython",
    "version": 3
   },
   "file_extension": ".py",
   "mimetype": "text/x-python",
   "name": "python",
   "nbconvert_exporter": "python",
   "pygments_lexer": "ipython3",
   "version": "3.8.8"
  }
 },
 "nbformat": 4,
 "nbformat_minor": 5
}
