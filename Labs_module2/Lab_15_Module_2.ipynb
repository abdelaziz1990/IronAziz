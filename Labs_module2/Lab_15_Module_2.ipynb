{
 "cells": [
  {
   "cell_type": "markdown",
   "id": "9452f6bb",
   "metadata": {},
   "source": [
    "# Lab_15_Module_2_Combinatorics"
   ]
  },
  {
   "cell_type": "markdown",
   "id": "25222c32",
   "metadata": {},
   "source": [
    "Challenge 1. Write a Python program to print all permutations of the string \"Ironhack\"\n"
   ]
  },
  {
   "cell_type": "code",
   "execution_count": 56,
   "id": "44ca7838",
   "metadata": {},
   "outputs": [],
   "source": [
    "def permutations(remaining, candidate=''):\n",
    " \n",
    "    if len(remaining) == 0:\n",
    "        print(candidate)\n",
    " \n",
    "    for i in range(len(remaining)):\n",
    " \n",
    "        newCandidate = candidate + remaining[i]\n",
    "        newRemaining = remaining[0:i] + remaining[i+1:]\n",
    " \n",
    "        permutations(newRemaining, newCandidate)\n",
    " \n",
    " \n",
    "if __name__ == '__main__':\n",
    " \n",
    "    s = 'Ironhack'\n",
    "    permutations(s)"
   ]
  },
  {
   "cell_type": "markdown",
   "id": "83dd8ebd",
   "metadata": {},
   "source": [
    "Challenge 2: How many ways can you choose 3 people from a group of 17 for making the group projects teams?\n"
   ]
  },
  {
   "cell_type": "code",
   "execution_count": 26,
   "id": "761169d0",
   "metadata": {},
   "outputs": [
    {
     "name": "stdout",
     "output_type": "stream",
     "text": [
      "680.0\n"
     ]
    }
   ],
   "source": [
    "#nPr=n!/(n−r)!r!\n",
    "\n",
    "#17P3 = fact(17)/fact(17-3)*fact(3)\n",
    "P = 17*16*15/6\n",
    "print(P)\n",
    "#we have 680 way to choose 3 people from 17"
   ]
  },
  {
   "cell_type": "markdown",
   "id": "850382dc",
   "metadata": {},
   "source": [
    " Challenge 3: Let's imagine you need to organize the business processes in the coffee shop. You know that each cup can be made from 10 possible ingridients. But it is not profitable to use more than 5 portions of ingridients at once. These ingridients should not be unique (for example, you can put milk twice, and a chocolate onle). How many different variations of coffee you can include to the menu?"
   ]
  },
  {
   "cell_type": "code",
   "execution_count": 29,
   "id": "2ea180b7",
   "metadata": {},
   "outputs": [
    {
     "name": "stdout",
     "output_type": "stream",
     "text": [
      "252.0\n"
     ]
    }
   ],
   "source": [
    "#10P5 = fact(10)/fact(10-5)*fact(5)\n",
    "P = (10*9*8*7*6)/(5*4*3*2*1)\n",
    "print(P)\n",
    "# we have 252 variations of coffe we can include "
   ]
  },
  {
   "cell_type": "markdown",
   "id": "58e0eeb2",
   "metadata": {},
   "source": [
    "Challenge 4: Given an array of distinct integers, return all the possible permutations. You can return the answer in any order. The lenght of array and the integers are given by user and may vary"
   ]
  },
  {
   "cell_type": "code",
   "execution_count": 48,
   "id": "4f371e44",
   "metadata": {},
   "outputs": [
    {
     "name": "stdout",
     "output_type": "stream",
     "text": [
      "[1, 2, 1]\n",
      "[1, 1, 2]\n",
      "[2, 1, 1]\n",
      "[2, 1, 1]\n",
      "[1, 2, 1]\n",
      "[1, 1, 2]\n"
     ]
    }
   ],
   "source": [
    "\n",
    "a =[1,2,1]\n",
    "def permutation(start, end):\n",
    "    if end==start:\n",
    "        print (a)\n",
    "        return\n",
    "    for i in range(start, end+1):\n",
    "        #swapping\n",
    "        a[i],a[start] = a[start],a[i]\n",
    "        #calling permutation function\n",
    "        #by keeping the element at the index start fixed\n",
    "        permutation(start+1, end)\n",
    "        #restoring the array\n",
    "        a[i],a[start] = a[start],a[i]\n",
    "permutation(0,len(a)-1)"
   ]
  },
  {
   "cell_type": "markdown",
   "id": "560171b3",
   "metadata": {},
   "source": [
    "Challenge 5: Use intertools library to solve the following problem: Six books are lying on a table in front of you. How many ways can you arrange the books, considering both the left-to-right order of the books and whether they’re set with the front cover facing up or down?"
   ]
  },
  {
   "cell_type": "code",
   "execution_count": 55,
   "id": "4f2e136d",
   "metadata": {},
   "outputs": [
    {
     "name": "stdout",
     "output_type": "stream",
     "text": [
      "[(1, 2, 3, 4, 5), (1, 2, 3, 5, 4), (1, 2, 4, 3, 5), (1, 2, 4, 5, 3), (1, 2, 5, 3, 4), (1, 2, 5, 4, 3), (1, 3, 2, 4, 5), (1, 3, 2, 5, 4), (1, 3, 4, 2, 5), (1, 3, 4, 5, 2), (1, 3, 5, 2, 4), (1, 3, 5, 4, 2), (1, 4, 2, 3, 5), (1, 4, 2, 5, 3), (1, 4, 3, 2, 5), (1, 4, 3, 5, 2), (1, 4, 5, 2, 3), (1, 4, 5, 3, 2), (1, 5, 2, 3, 4), (1, 5, 2, 4, 3), (1, 5, 3, 2, 4), (1, 5, 3, 4, 2), (1, 5, 4, 2, 3), (1, 5, 4, 3, 2), (2, 1, 3, 4, 5), (2, 1, 3, 5, 4), (2, 1, 4, 3, 5), (2, 1, 4, 5, 3), (2, 1, 5, 3, 4), (2, 1, 5, 4, 3), (2, 3, 1, 4, 5), (2, 3, 1, 5, 4), (2, 3, 4, 1, 5), (2, 3, 4, 5, 1), (2, 3, 5, 1, 4), (2, 3, 5, 4, 1), (2, 4, 1, 3, 5), (2, 4, 1, 5, 3), (2, 4, 3, 1, 5), (2, 4, 3, 5, 1), (2, 4, 5, 1, 3), (2, 4, 5, 3, 1), (2, 5, 1, 3, 4), (2, 5, 1, 4, 3), (2, 5, 3, 1, 4), (2, 5, 3, 4, 1), (2, 5, 4, 1, 3), (2, 5, 4, 3, 1), (3, 1, 2, 4, 5), (3, 1, 2, 5, 4), (3, 1, 4, 2, 5), (3, 1, 4, 5, 2), (3, 1, 5, 2, 4), (3, 1, 5, 4, 2), (3, 2, 1, 4, 5), (3, 2, 1, 5, 4), (3, 2, 4, 1, 5), (3, 2, 4, 5, 1), (3, 2, 5, 1, 4), (3, 2, 5, 4, 1), (3, 4, 1, 2, 5), (3, 4, 1, 5, 2), (3, 4, 2, 1, 5), (3, 4, 2, 5, 1), (3, 4, 5, 1, 2), (3, 4, 5, 2, 1), (3, 5, 1, 2, 4), (3, 5, 1, 4, 2), (3, 5, 2, 1, 4), (3, 5, 2, 4, 1), (3, 5, 4, 1, 2), (3, 5, 4, 2, 1), (4, 1, 2, 3, 5), (4, 1, 2, 5, 3), (4, 1, 3, 2, 5), (4, 1, 3, 5, 2), (4, 1, 5, 2, 3), (4, 1, 5, 3, 2), (4, 2, 1, 3, 5), (4, 2, 1, 5, 3), (4, 2, 3, 1, 5), (4, 2, 3, 5, 1), (4, 2, 5, 1, 3), (4, 2, 5, 3, 1), (4, 3, 1, 2, 5), (4, 3, 1, 5, 2), (4, 3, 2, 1, 5), (4, 3, 2, 5, 1), (4, 3, 5, 1, 2), (4, 3, 5, 2, 1), (4, 5, 1, 2, 3), (4, 5, 1, 3, 2), (4, 5, 2, 1, 3), (4, 5, 2, 3, 1), (4, 5, 3, 1, 2), (4, 5, 3, 2, 1), (5, 1, 2, 3, 4), (5, 1, 2, 4, 3), (5, 1, 3, 2, 4), (5, 1, 3, 4, 2), (5, 1, 4, 2, 3), (5, 1, 4, 3, 2), (5, 2, 1, 3, 4), (5, 2, 1, 4, 3), (5, 2, 3, 1, 4), (5, 2, 3, 4, 1), (5, 2, 4, 1, 3), (5, 2, 4, 3, 1), (5, 3, 1, 2, 4), (5, 3, 1, 4, 2), (5, 3, 2, 1, 4), (5, 3, 2, 4, 1), (5, 3, 4, 1, 2), (5, 3, 4, 2, 1), (5, 4, 1, 2, 3), (5, 4, 1, 3, 2), (5, 4, 2, 1, 3), (5, 4, 2, 3, 1), (5, 4, 3, 1, 2), (5, 4, 3, 2, 1)]\n"
     ]
    }
   ],
   "source": [
    "\n",
    "from itertools import permutations\n",
    "l = list(permutations(range(1, 6)))\n",
    "print(l)"
   ]
  },
  {
   "cell_type": "code",
   "execution_count": null,
   "id": "9f6a822c",
   "metadata": {},
   "outputs": [],
   "source": []
  }
 ],
 "metadata": {
  "kernelspec": {
   "display_name": "Python 3 (ipykernel)",
   "language": "python",
   "name": "python3"
  },
  "language_info": {
   "codemirror_mode": {
    "name": "ipython",
    "version": 3
   },
   "file_extension": ".py",
   "mimetype": "text/x-python",
   "name": "python",
   "nbconvert_exporter": "python",
   "pygments_lexer": "ipython3",
   "version": "3.9.7"
  }
 },
 "nbformat": 4,
 "nbformat_minor": 5
}
