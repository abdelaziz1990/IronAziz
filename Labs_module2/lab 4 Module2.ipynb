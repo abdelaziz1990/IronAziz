{
 "cells": [
  {
   "cell_type": "code",
   "execution_count": 67,
   "id": "ca9f48be",
   "metadata": {},
   "outputs": [],
   "source": [
    "import random\n",
    "import seaborn as sns \n",
    "import pandas as pd\n",
    "from collections import Counter"
   ]
  },
  {
   "cell_type": "code",
   "execution_count": 73,
   "id": "1acdee47",
   "metadata": {},
   "outputs": [
    {
     "name": "stdout",
     "output_type": "stream",
     "text": [
      "{2: 0, 3: 2, 4: 3, 5: 3, 6: 0, 7: 0, 8: 0, 9: 0, 10: 1, 11: 0, 12: 0}\n"
     ]
    }
   ],
   "source": [
    "#Challenge 1\n",
    "#1.- Define a function that simulates rolling a dice 10 times. Save the information in a dataframe.\n",
    "\n",
    "def diceroll(number_of_dices, number_of_times, dice_sides=6):\n",
    "    # prepare dictionary with zero values for all possible results\n",
    "    counter = {n : 0 for n in range(number_of_dices, number_of_dices*dice_sides + 1)}\n",
    "\n",
    "    # roll all the dice\n",
    "    for i in range(1, 10):\n",
    "        dice_sum = sum(random.choices(range(1, dice_sides + 1), k = number_of_dices))\n",
    "        counter[dice_sum] += 1\n",
    "\n",
    "    return counter\n",
    "\n",
    "print(diceroll(2, 10))"
   ]
  },
  {
   "cell_type": "code",
   "execution_count": 71,
   "id": "2909d6e7",
   "metadata": {},
   "outputs": [],
   "source": [
    "df = pd.DataFrame({\n",
    "    2: [0],\n",
    "    3: [0],\n",
    "    4: [2],\n",
    "    5: [3],\n",
    "    6: [1],\n",
    "    7: [1],\n",
    "    8: [1],\n",
    "    9: [0],\n",
    "    10:[0]\n",
    "    \n",
    "})"
   ]
  },
  {
   "cell_type": "code",
   "execution_count": 72,
   "id": "01d5246b",
   "metadata": {
    "scrolled": true
   },
   "outputs": [
    {
     "data": {
      "text/plain": [
       "<AxesSubplot:>"
      ]
     },
     "execution_count": 72,
     "metadata": {},
     "output_type": "execute_result"
    },
    {
     "data": {
      "image/png": "[encoded data removed]",
      "text/plain": [
       "<Figure size 432x288 with 1 Axes>"
      ]
     },
     "metadata": {
      "needs_background": "light"
     },
     "output_type": "display_data"
    }
   ],
   "source": [
    "#2.- Plot the results sorted by value.\n",
    "df.plot.bar()"
   ]
  },
  {
   "cell_type": "code",
   "execution_count": 78,
   "id": "70e24dd6",
   "metadata": {},
   "outputs": [
    {
     "data": {
      "text/plain": [
       "2  3  4  5  6  7  8  9  10\n",
       "0  0  2  3  1  1  1  0  0     1\n",
       "dtype: int64"
      ]
     },
     "execution_count": 78,
     "metadata": {},
     "output_type": "execute_result"
    }
   ],
   "source": [
    "df.value_counts()"
   ]
  },
  {
   "cell_type": "code",
   "execution_count": 88,
   "id": "3be58a89",
   "metadata": {},
   "outputs": [
    {
     "data": {
      "text/plain": [
       "54.0"
      ]
     },
     "execution_count": 88,
     "metadata": {},
     "output_type": "execute_result"
    }
   ],
   "source": [
    "#Challenge 2\n",
    "#1.- Define a function that computes the mean by summing all the observations and dividing by the total number of observations. \n",
    "#You are not allowed to use any methods or functions that directly calculate the mean value.\n",
    "def mean_cf (df):\n",
    "    mean = sum(df)/len(df)\n",
    "    return mean \n",
    "mean_cf(df)\n"
   ]
  },
  {
   "cell_type": "code",
   "execution_count": 87,
   "id": "02d08e01",
   "metadata": {},
   "outputs": [
    {
     "data": {
      "text/plain": [
       "1.0"
      ]
     },
     "execution_count": 87,
     "metadata": {},
     "output_type": "execute_result"
    }
   ],
   "source": [
    "#2.- First, calculate the frequency distribution. Then, calculate the mean using the values of the frequency distribution you've just computed.\n",
    "#You are not allowed to use any methods or functions that directly calculate the mean value.\n",
    "df.value_counts().mean()"
   ]
  },
  {
   "cell_type": "code",
   "execution_count": 95,
   "id": "72e11bbc",
   "metadata": {},
   "outputs": [
    {
     "data": {
      "text/plain": [
       "0.5"
      ]
     },
     "execution_count": 95,
     "metadata": {},
     "output_type": "execute_result"
    }
   ],
   "source": [
    "#3.- Define a function to calculate the median. You are not allowed to use any methods or functions that directly calculate the median value.\n",
    "def mediane(df):\n",
    "    mediane = (len(df)+1)/2\n",
    "    return mediane\n",
    "mediane(df)"
   ]
  },
  {
   "cell_type": "code",
   "execution_count": 97,
   "id": "12c02f46",
   "metadata": {},
   "outputs": [
    {
     "data": {
      "text/plain": [
       "0.5"
      ]
     },
     "execution_count": 97,
     "metadata": {},
     "output_type": "execute_result"
    }
   ],
   "source": [
    "#4.- Define a function to calculate the four quartiles. You can use the function you defined above to compute the median but you are not allowed to use any methods or functions that directly calculate the quartiles.\n",
    "def Fou_quarter(df):\n",
    "    Fou_quarter = (len(df)+1)/4\n",
    "    return Fou_quarter\n",
    "Fou_quarter(df)\n",
    "    "
   ]
  },
  {
   "cell_type": "code",
   "execution_count": 102,
   "id": "640ceb3e",
   "metadata": {},
   "outputs": [
    {
     "data": {
      "text/html": [
       "<div>\n",
       "<style scoped>\n",
       "    .dataframe tbody tr th:only-of-type {\n",
       "        vertical-align: middle;\n",
       "    }\n",
       "\n",
       "    .dataframe tbody tr th {\n",
       "        vertical-align: top;\n",
       "    }\n",
       "\n",
       "    .dataframe thead th {\n",
       "        text-align: right;\n",
       "    }\n",
       "</style>\n",
       "<table border=\"1\" class=\"dataframe\">\n",
       "  <thead>\n",
       "    <tr style=\"text-align: right;\">\n",
       "      <th></th>\n",
       "      <th>Unnamed: 0</th>\n",
       "      <th>roll</th>\n",
       "      <th>value</th>\n",
       "    </tr>\n",
       "  </thead>\n",
       "  <tbody>\n",
       "    <tr>\n",
       "      <th>0</th>\n",
       "      <td>0</td>\n",
       "      <td>0</td>\n",
       "      <td>5</td>\n",
       "    </tr>\n",
       "    <tr>\n",
       "      <th>1</th>\n",
       "      <td>1</td>\n",
       "      <td>1</td>\n",
       "      <td>6</td>\n",
       "    </tr>\n",
       "    <tr>\n",
       "      <th>2</th>\n",
       "      <td>2</td>\n",
       "      <td>2</td>\n",
       "      <td>1</td>\n",
       "    </tr>\n",
       "    <tr>\n",
       "      <th>3</th>\n",
       "      <td>3</td>\n",
       "      <td>3</td>\n",
       "      <td>6</td>\n",
       "    </tr>\n",
       "    <tr>\n",
       "      <th>4</th>\n",
       "      <td>4</td>\n",
       "      <td>4</td>\n",
       "      <td>5</td>\n",
       "    </tr>\n",
       "    <tr>\n",
       "      <th>...</th>\n",
       "      <td>...</td>\n",
       "      <td>...</td>\n",
       "      <td>...</td>\n",
       "    </tr>\n",
       "    <tr>\n",
       "      <th>995</th>\n",
       "      <td>995</td>\n",
       "      <td>995</td>\n",
       "      <td>1</td>\n",
       "    </tr>\n",
       "    <tr>\n",
       "      <th>996</th>\n",
       "      <td>996</td>\n",
       "      <td>996</td>\n",
       "      <td>4</td>\n",
       "    </tr>\n",
       "    <tr>\n",
       "      <th>997</th>\n",
       "      <td>997</td>\n",
       "      <td>997</td>\n",
       "      <td>4</td>\n",
       "    </tr>\n",
       "    <tr>\n",
       "      <th>998</th>\n",
       "      <td>998</td>\n",
       "      <td>998</td>\n",
       "      <td>3</td>\n",
       "    </tr>\n",
       "    <tr>\n",
       "      <th>999</th>\n",
       "      <td>999</td>\n",
       "      <td>999</td>\n",
       "      <td>6</td>\n",
       "    </tr>\n",
       "  </tbody>\n",
       "</table>\n",
       "<p>1000 rows × 3 columns</p>\n",
       "</div>"
      ],
      "text/plain": [
       "     Unnamed: 0  roll  value\n",
       "0             0     0      5\n",
       "1             1     1      6\n",
       "2             2     2      1\n",
       "3             3     3      6\n",
       "4             4     4      5\n",
       "..          ...   ...    ...\n",
       "995         995   995      1\n",
       "996         996   996      4\n",
       "997         997   997      4\n",
       "998         998   998      3\n",
       "999         999   999      6\n",
       "\n",
       "[1000 rows x 3 columns]"
      ]
     },
     "execution_count": 102,
     "metadata": {},
     "output_type": "execute_result"
    }
   ],
   "source": [
    "#Challenge 3\n",
    "df= pd.read_csv(r'C:\\Users\\Mtime\\OneDrive\\Bureau\\roll_the_dice_thousand.csv')\n",
    "df"
   ]
  },
  {
   "cell_type": "code",
   "execution_count": 103,
   "id": "d6b63b38",
   "metadata": {},
   "outputs": [
    {
     "data": {
      "text/plain": [
       "<AxesSubplot:>"
      ]
     },
     "execution_count": 103,
     "metadata": {},
     "output_type": "execute_result"
    },
    {
     "data": {
      "image/png": "[encoded data removed]",
      "text/plain": [
       "<Figure size 432x288 with 1 Axes>"
      ]
     },
     "metadata": {
      "needs_background": "light"
     },
     "output_type": "display_data"
    }
   ],
   "source": [
    "df.sort_values('roll').plot()"
   ]
  },
  {
   "cell_type": "code",
   "execution_count": 127,
   "id": "84aac8eb",
   "metadata": {},
   "outputs": [
    {
     "name": "stdout",
     "output_type": "stream",
     "text": [
      "499.5\n"
     ]
    }
   ],
   "source": [
    "#2.- Using the functions you defined in challenge 2, calculate the mean value of the hundred dice rolls.\n",
    "def mean_cf (df):\n",
    "    mean = sum(df.roll)/len(df.roll)\n",
    "    return mean \n",
    "print(mean_cf(df))"
   ]
  },
  {
   "cell_type": "code",
   "execution_count": 131,
   "id": "81be8140",
   "metadata": {},
   "outputs": [
    {
     "data": {
      "text/plain": [
       "value\n",
       "1    175\n",
       "3    175\n",
       "4    168\n",
       "2    167\n",
       "6    166\n",
       "5    149\n",
       "dtype: int64"
      ]
     },
     "execution_count": 131,
     "metadata": {},
     "output_type": "execute_result"
    }
   ],
   "source": [
    "#3.- Now, calculate the frequency distribution.\n",
    "df.value_counts(df.value)"
   ]
  },
  {
   "cell_type": "code",
   "execution_count": 134,
   "id": "e2df3a11",
   "metadata": {},
   "outputs": [
    {
     "data": {
      "text/plain": [
       "<AxesSubplot:ylabel='Frequency'>"
      ]
     },
     "execution_count": 134,
     "metadata": {},
     "output_type": "execute_result"
    },
    {
     "data": {
      "image/png": "[encoded data removed]",
      "text/plain": [
       "<Figure size 432x288 with 1 Axes>"
      ]
     },
     "metadata": {
      "needs_background": "light"
     },
     "output_type": "display_data"
    }
   ],
   "source": [
    "#Plot the histogram. What do you see (shape, values...) ? How can you connect the mean value to the histogram?\n",
    "df.plot.hist()"
   ]
  },
  {
   "cell_type": "code",
   "execution_count": 143,
   "id": "5f2ff55c",
   "metadata": {},
   "outputs": [
    {
     "data": {
      "text/plain": [
       "<AxesSubplot:xlabel='Unnamed: 0,roll,value'>"
      ]
     },
     "execution_count": 143,
     "metadata": {},
     "output_type": "execute_result"
    },
    {
     "data": {
      "image/png": "[encoded data removed]",
      "text/plain": [
       "<Figure size 432x288 with 1 Axes>"
      ]
     },
     "metadata": {
      "needs_background": "light"
     },
     "output_type": "display_data"
    }
   ],
   "source": [
    "#5.- Read the roll_the_dice_thousand.csv from the data folder. Plot the frequency distribution as you did before. Has anything changed? Why do you think it changed?\n",
    "df=pd.read_csv(r'C:\\Users\\Mtime\\OneDrive\\Bureau\\roll_the_dice_thousand.csv')\n",
    "df\n",
    "df.value_counts().plot()\n",
    "#Now is horizantal plot"
   ]
  },
  {
   "cell_type": "code",
   "execution_count": 144,
   "id": "5c9e6770",
   "metadata": {},
   "outputs": [
    {
     "data": {
      "text/plain": [
       "<AxesSubplot:xlabel='observation'>"
      ]
     },
     "execution_count": 144,
     "metadata": {},
     "output_type": "execute_result"
    },
    {
     "data": {
      "image/png": "[encoded data removed]",
      "text/plain": [
       "<Figure size 432x288 with 1 Axes>"
      ]
     },
     "metadata": {
      "needs_background": "light"
     },
     "output_type": "display_data"
    }
   ],
   "source": [
    "#Challenge 4\n",
    "#1.- Read the file ages_population.csv. Calculate the frequency distribution and plot it as we did during the lesson. Try to guess the range in which the mean and the standard deviation will be by looking at the plot.\n",
    "df = pd.read_csv(r'C:\\Users\\Mtime\\OneDrive\\Bureau\\ages_population.csv')\n",
    "df.value_counts().plot()"
   ]
  },
  {
   "cell_type": "code",
   "execution_count": 147,
   "id": "72189d3a",
   "metadata": {},
   "outputs": [
    {
     "data": {
      "text/plain": [
       "observation    36.56\n",
       "dtype: float64"
      ]
     },
     "execution_count": 147,
     "metadata": {},
     "output_type": "execute_result"
    }
   ],
   "source": [
    "#2.- Calculate the exact mean and standard deviation and compare them with your guesses. Do they fall inside the ranges you guessed?\n",
    "df.mean()"
   ]
  },
  {
   "cell_type": "code",
   "execution_count": 148,
   "id": "c84fde7f",
   "metadata": {},
   "outputs": [
    {
     "data": {
      "text/plain": [
       "observation    12.8165\n",
       "dtype: float64"
      ]
     },
     "execution_count": 148,
     "metadata": {},
     "output_type": "execute_result"
    }
   ],
   "source": [
    "df.std()"
   ]
  },
  {
   "cell_type": "code",
   "execution_count": 149,
   "id": "bce536dd",
   "metadata": {},
   "outputs": [
    {
     "data": {
      "text/plain": [
       "observation\n",
       "28.0           139\n",
       "27.0           125\n",
       "26.0           120\n",
       "29.0           115\n",
       "25.0            98\n",
       "30.0            90\n",
       "24.0            78\n",
       "31.0            61\n",
       "23.0            41\n",
       "22.0            35\n",
       "32.0            31\n",
       "33.0            22\n",
       "21.0            17\n",
       "20.0            13\n",
       "34.0             7\n",
       "35.0             3\n",
       "19.0             3\n",
       "36.0             2\n",
       "dtype: int64"
      ]
     },
     "execution_count": 149,
     "metadata": {},
     "output_type": "execute_result"
    }
   ],
   "source": [
    "#3.- Now read the file ages_population2.csv . Calculate the frequency distribution and plot it.\n",
    "df = pd.read_csv(r'C:\\Users\\Mtime\\OneDrive\\Bureau\\ages_population2.csv')\n",
    "df.value_counts()"
   ]
  },
  {
   "cell_type": "code",
   "execution_count": 150,
   "id": "38f5b9a0",
   "metadata": {},
   "outputs": [
    {
     "data": {
      "text/plain": [
       "observation    27.155\n",
       "dtype: float64"
      ]
     },
     "execution_count": 150,
     "metadata": {},
     "output_type": "execute_result"
    }
   ],
   "source": [
    "#4.- What do you see? Is there any difference with the frequency distribution in step 1?\n",
    "#Yes\n",
    "#5.- Calculate the mean and standard deviation. Compare the results with the mean and standard deviation in step 2. What do you think?\n",
    "df.mean()"
   ]
  },
  {
   "cell_type": "code",
   "execution_count": 151,
   "id": "4e7fdeb0",
   "metadata": {},
   "outputs": [
    {
     "data": {
      "text/plain": [
       "observation    2.969814\n",
       "dtype: float64"
      ]
     },
     "execution_count": 151,
     "metadata": {},
     "output_type": "execute_result"
    }
   ],
   "source": [
    "df.std()"
   ]
  },
  {
   "cell_type": "code",
   "execution_count": 152,
   "id": "ee74a0e2",
   "metadata": {},
   "outputs": [],
   "source": [
    "#  means values is some if we wanna to say.\n",
    "# but the std the df1 is much more bigger than the seconde"
   ]
  },
  {
   "cell_type": "code",
   "execution_count": 153,
   "id": "30a753c3",
   "metadata": {},
   "outputs": [
    {
     "data": {
      "text/plain": [
       "<AxesSubplot:xlabel='observation'>"
      ]
     },
     "execution_count": 153,
     "metadata": {},
     "output_type": "execute_result"
    },
    {
     "data": {
      "image/png": "[encoded data removed]",
      "text/plain": [
       "<Figure size 432x288 with 1 Axes>"
      ]
     },
     "metadata": {
      "needs_background": "light"
     },
     "output_type": "display_data"
    }
   ],
   "source": [
    "#Challenge 5\n",
    "#1.- Read the file ages_population3.csv. Calculate the frequency distribution and plot it.\n",
    "df = pd.read_csv(r'C:\\Users\\Mtime\\OneDrive\\Bureau\\ages_population3.csv')\n",
    "df.value_counts().plot()\n"
   ]
  },
  {
   "cell_type": "code",
   "execution_count": 154,
   "id": "f2d46fe9",
   "metadata": {},
   "outputs": [
    {
     "data": {
      "text/plain": [
       "observation    41.989\n",
       "dtype: float64"
      ]
     },
     "execution_count": 154,
     "metadata": {},
     "output_type": "execute_result"
    }
   ],
   "source": [
    "#2.- Calculate the mean and standard deviation. Compare the results with the plot in step 1. What is happening?\n",
    "df.mean()"
   ]
  },
  {
   "cell_type": "code",
   "execution_count": 155,
   "id": "2176d0e7",
   "metadata": {},
   "outputs": [],
   "source": [
    "#the two means almost equalbetween the two df"
   ]
  },
  {
   "cell_type": "code",
   "execution_count": 156,
   "id": "a9246ad7",
   "metadata": {},
   "outputs": [
    {
     "data": {
      "text/plain": [
       "observation    16.144706\n",
       "dtype: float64"
      ]
     },
     "execution_count": 156,
     "metadata": {},
     "output_type": "execute_result"
    }
   ],
   "source": [
    "df.std()"
   ]
  },
  {
   "cell_type": "code",
   "execution_count": 157,
   "id": "81a9bb0a",
   "metadata": {},
   "outputs": [],
   "source": [
    "#even for the std "
   ]
  },
  {
   "cell_type": "code",
   "execution_count": 158,
   "id": "5725aeef",
   "metadata": {},
   "outputs": [
    {
     "data": {
      "text/plain": [
       "observation    40.0\n",
       "Name: 0.5, dtype: float64"
      ]
     },
     "execution_count": 158,
     "metadata": {},
     "output_type": "execute_result"
    }
   ],
   "source": [
    "#3.- Calculate the four quartiles. Use the results to explain your reasoning for question in step 2. How much of a difference is there between the median and the mean?\n",
    "df.quantile()"
   ]
  },
  {
   "cell_type": "code",
   "execution_count": 159,
   "id": "d7d121b5",
   "metadata": {},
   "outputs": [
    {
     "data": {
      "text/plain": [
       "observation    40.0\n",
       "dtype: float64"
      ]
     },
     "execution_count": 159,
     "metadata": {},
     "output_type": "execute_result"
    }
   ],
   "source": [
    "df.median()"
   ]
  },
  {
   "cell_type": "code",
   "execution_count": null,
   "id": "2bfa3b66",
   "metadata": {},
   "outputs": [],
   "source": [
    "#the quartiles is equal of the mean and median "
   ]
  }
 ],
 "metadata": {
  "kernelspec": {
   "display_name": "Python 3 (ipykernel)",
   "language": "python",
   "name": "python3"
  },
  "language_info": {
   "codemirror_mode": {
    "name": "ipython",
    "version": 3
   },
   "file_extension": ".py",
   "mimetype": "text/x-python",
   "name": "python",
   "nbconvert_exporter": "python",
   "pygments_lexer": "ipython3",
   "version": "3.9.7"
  }
 },
 "nbformat": 4,
 "nbformat_minor": 5
}
