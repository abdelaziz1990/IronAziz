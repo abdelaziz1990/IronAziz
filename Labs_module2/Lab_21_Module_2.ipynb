{
 "cells": [
  {
   "cell_type": "markdown",
   "id": "2872c932",
   "metadata": {},
   "source": [
    "# Lab_21_Module_2_Time_Series_Models"
   ]
  },
  {
   "cell_type": "code",
   "execution_count": 59,
   "id": "28881533",
   "metadata": {},
   "outputs": [
    {
     "data": {
      "text/html": [
       "<div>\n",
       "<style scoped>\n",
       "    .dataframe tbody tr th:only-of-type {\n",
       "        vertical-align: middle;\n",
       "    }\n",
       "\n",
       "    .dataframe tbody tr th {\n",
       "        vertical-align: top;\n",
       "    }\n",
       "\n",
       "    .dataframe thead th {\n",
       "        text-align: right;\n",
       "    }\n",
       "</style>\n",
       "<table border=\"1\" class=\"dataframe\">\n",
       "  <thead>\n",
       "    <tr style=\"text-align: right;\">\n",
       "      <th></th>\n",
       "      <th>Month</th>\n",
       "      <th>Passengers</th>\n",
       "    </tr>\n",
       "  </thead>\n",
       "  <tbody>\n",
       "    <tr>\n",
       "      <th>0</th>\n",
       "      <td>1949-01</td>\n",
       "      <td>112</td>\n",
       "    </tr>\n",
       "    <tr>\n",
       "      <th>1</th>\n",
       "      <td>1949-02</td>\n",
       "      <td>118</td>\n",
       "    </tr>\n",
       "    <tr>\n",
       "      <th>2</th>\n",
       "      <td>1949-03</td>\n",
       "      <td>132</td>\n",
       "    </tr>\n",
       "    <tr>\n",
       "      <th>3</th>\n",
       "      <td>1949-04</td>\n",
       "      <td>129</td>\n",
       "    </tr>\n",
       "    <tr>\n",
       "      <th>4</th>\n",
       "      <td>1949-05</td>\n",
       "      <td>121</td>\n",
       "    </tr>\n",
       "  </tbody>\n",
       "</table>\n",
       "</div>"
      ],
      "text/plain": [
       "     Month  Passengers\n",
       "0  1949-01         112\n",
       "1  1949-02         118\n",
       "2  1949-03         132\n",
       "3  1949-04         129\n",
       "4  1949-05         121"
      ]
     },
     "execution_count": 59,
     "metadata": {},
     "output_type": "execute_result"
    }
   ],
   "source": [
    "import pandas as pd \n",
    "from matplotlib import pyplot as plt\n",
    "import seaborn as sns\n",
    "from statsmodels.graphics.tsaplots import plot_acf\n",
    "from statsmodels.tsa.stattools import acf\n",
    "from statsmodels.tsa.stattools import pacf\n",
    "from statsmodels.graphics.tsaplots import plot_pacf\n",
    "from statsmodels.tsa.arima_process import ArmaProcess\n",
    "\n",
    "\n",
    "\n",
    "\n",
    "df = pd.read_excel(r'C:\\Users\\Mtime\\OneDrive\\Bureau\\airlines.xlsx')\n",
    "df.head()"
   ]
  },
  {
   "cell_type": "markdown",
   "id": "f5f69fe3",
   "metadata": {},
   "source": [
    "We can see that the data contains a column labeled “Month” that contains dates. In that column, the dates are formatted as year–month. We also see that the data starts in the year 1949. The second column is labeled Passengers, and it contains the number of passengers for the year–month. Let’s take a look at the last five records the data"
   ]
  },
  {
   "cell_type": "code",
   "execution_count": 6,
   "id": "4756d57c",
   "metadata": {},
   "outputs": [
    {
     "data": {
      "text/html": [
       "<div>\n",
       "<style scoped>\n",
       "    .dataframe tbody tr th:only-of-type {\n",
       "        vertical-align: middle;\n",
       "    }\n",
       "\n",
       "    .dataframe tbody tr th {\n",
       "        vertical-align: top;\n",
       "    }\n",
       "\n",
       "    .dataframe thead th {\n",
       "        text-align: right;\n",
       "    }\n",
       "</style>\n",
       "<table border=\"1\" class=\"dataframe\">\n",
       "  <thead>\n",
       "    <tr style=\"text-align: right;\">\n",
       "      <th></th>\n",
       "      <th>Month</th>\n",
       "      <th>Passengers</th>\n",
       "    </tr>\n",
       "  </thead>\n",
       "  <tbody>\n",
       "    <tr>\n",
       "      <th>0</th>\n",
       "      <td>1949-01</td>\n",
       "      <td>112</td>\n",
       "    </tr>\n",
       "    <tr>\n",
       "      <th>1</th>\n",
       "      <td>1949-02</td>\n",
       "      <td>118</td>\n",
       "    </tr>\n",
       "    <tr>\n",
       "      <th>2</th>\n",
       "      <td>1949-03</td>\n",
       "      <td>132</td>\n",
       "    </tr>\n",
       "    <tr>\n",
       "      <th>3</th>\n",
       "      <td>1949-04</td>\n",
       "      <td>129</td>\n",
       "    </tr>\n",
       "    <tr>\n",
       "      <th>4</th>\n",
       "      <td>1949-05</td>\n",
       "      <td>121</td>\n",
       "    </tr>\n",
       "  </tbody>\n",
       "</table>\n",
       "</div>"
      ],
      "text/plain": [
       "     Month  Passengers\n",
       "0  1949-01         112\n",
       "1  1949-02         118\n",
       "2  1949-03         132\n",
       "3  1949-04         129\n",
       "4  1949-05         121"
      ]
     },
     "execution_count": 6,
     "metadata": {},
     "output_type": "execute_result"
    }
   ],
   "source": [
    "df.head(5)"
   ]
  },
  {
   "cell_type": "markdown",
   "id": "0e5ef8a0",
   "metadata": {},
   "source": [
    "We see that the data ends in 1960. The next thing we will want to do is convert the month column into a datetime object. This will allow it to programmatically pull time values like the year or month for each record. To do this, we use the Pandas to_datetime() method. Note that this process automatically inserts the first day of each month, which is basically a dummy value since we have no daily passenger data."
   ]
  },
  {
   "cell_type": "code",
   "execution_count": 7,
   "id": "98080bc8",
   "metadata": {},
   "outputs": [
    {
     "data": {
      "text/plain": [
       "0     1949-01-01\n",
       "1     1949-02-01\n",
       "2     1949-03-01\n",
       "3     1949-04-01\n",
       "4     1949-05-01\n",
       "         ...    \n",
       "139   1960-08-01\n",
       "140   1960-09-01\n",
       "141   1960-10-01\n",
       "142   1960-11-01\n",
       "143   1960-12-01\n",
       "Name: Month, Length: 144, dtype: datetime64[ns]"
      ]
     },
     "execution_count": 7,
     "metadata": {},
     "output_type": "execute_result"
    }
   ],
   "source": [
    "pd.to_datetime(df['Month'])"
   ]
  },
  {
   "cell_type": "markdown",
   "id": "d2b7f3c8",
   "metadata": {},
   "source": [
    "The next thing we can do is convert the month column to an index.\n",
    "\n"
   ]
  },
  {
   "cell_type": "code",
   "execution_count": 8,
   "id": "a3bac150",
   "metadata": {},
   "outputs": [
    {
     "data": {
      "text/html": [
       "<div>\n",
       "<style scoped>\n",
       "    .dataframe tbody tr th:only-of-type {\n",
       "        vertical-align: middle;\n",
       "    }\n",
       "\n",
       "    .dataframe tbody tr th {\n",
       "        vertical-align: top;\n",
       "    }\n",
       "\n",
       "    .dataframe thead th {\n",
       "        text-align: right;\n",
       "    }\n",
       "</style>\n",
       "<table border=\"1\" class=\"dataframe\">\n",
       "  <thead>\n",
       "    <tr style=\"text-align: right;\">\n",
       "      <th></th>\n",
       "      <th>Passengers</th>\n",
       "    </tr>\n",
       "    <tr>\n",
       "      <th>Month</th>\n",
       "      <th></th>\n",
       "    </tr>\n",
       "  </thead>\n",
       "  <tbody>\n",
       "    <tr>\n",
       "      <th>1949-01</th>\n",
       "      <td>112</td>\n",
       "    </tr>\n",
       "    <tr>\n",
       "      <th>1949-02</th>\n",
       "      <td>118</td>\n",
       "    </tr>\n",
       "    <tr>\n",
       "      <th>1949-03</th>\n",
       "      <td>132</td>\n",
       "    </tr>\n",
       "    <tr>\n",
       "      <th>1949-04</th>\n",
       "      <td>129</td>\n",
       "    </tr>\n",
       "    <tr>\n",
       "      <th>1949-05</th>\n",
       "      <td>121</td>\n",
       "    </tr>\n",
       "    <tr>\n",
       "      <th>...</th>\n",
       "      <td>...</td>\n",
       "    </tr>\n",
       "    <tr>\n",
       "      <th>1960-08</th>\n",
       "      <td>606</td>\n",
       "    </tr>\n",
       "    <tr>\n",
       "      <th>1960-09</th>\n",
       "      <td>508</td>\n",
       "    </tr>\n",
       "    <tr>\n",
       "      <th>1960-10</th>\n",
       "      <td>461</td>\n",
       "    </tr>\n",
       "    <tr>\n",
       "      <th>1960-11</th>\n",
       "      <td>390</td>\n",
       "    </tr>\n",
       "    <tr>\n",
       "      <th>1960-12</th>\n",
       "      <td>432</td>\n",
       "    </tr>\n",
       "  </tbody>\n",
       "</table>\n",
       "<p>144 rows × 1 columns</p>\n",
       "</div>"
      ],
      "text/plain": [
       "         Passengers\n",
       "Month              \n",
       "1949-01         112\n",
       "1949-02         118\n",
       "1949-03         132\n",
       "1949-04         129\n",
       "1949-05         121\n",
       "...             ...\n",
       "1960-08         606\n",
       "1960-09         508\n",
       "1960-10         461\n",
       "1960-11         390\n",
       "1960-12         432\n",
       "\n",
       "[144 rows x 1 columns]"
      ]
     },
     "execution_count": 8,
     "metadata": {},
     "output_type": "execute_result"
    }
   ],
   "source": [
    "df.set_index('Month')"
   ]
  },
  {
   "cell_type": "markdown",
   "id": "400f09a2",
   "metadata": {},
   "source": [
    "Let’s generate a time series plot using Seaborn and Matplotlib. This will allow us to visualize the time series data. Import the libraries and generate the lineplot. Label the y-axis with Matplotlib “Number of Passengers”"
   ]
  },
  {
   "cell_type": "code",
   "execution_count": 9,
   "id": "a2c95c15",
   "metadata": {},
   "outputs": [
    {
     "data": {
      "text/plain": [
       "[<matplotlib.lines.Line2D at 0x29c5962fc10>]"
      ]
     },
     "execution_count": 9,
     "metadata": {},
     "output_type": "execute_result"
    },
    {
     "data": {
      "image/png": "[encoded data removed]",
      "text/plain": [
       "<Figure size 432x288 with 1 Axes>"
      ]
     },
     "metadata": {
      "needs_background": "light"
     },
     "output_type": "display_data"
    }
   ],
   "source": [
    "plt.xlabel('Date')\n",
    "plt.ylabel('Number of Passengers')\n",
    "plt.plot(df['Month'], df['Passengers'])"
   ]
  },
  {
   "cell_type": "markdown",
   "id": "f186b77d",
   "metadata": {},
   "source": [
    "Stationarity is a key part of time series analysis. Import the augmented Dickey-Fuller test from the statsmodels package.\n",
    "\n"
   ]
  },
  {
   "cell_type": "code",
   "execution_count": 10,
   "id": "19ad2ed9",
   "metadata": {},
   "outputs": [],
   "source": [
    "from statsmodels.tsa.stattools import adfuller\n"
   ]
  },
  {
   "cell_type": "markdown",
   "id": "65c1ad29",
   "metadata": {},
   "source": [
    "Let’s pass our data frame into the adfuller method. Here, we specify the autolag parameter as “AIC”, which means that the lag is chosen to minimize the information criterion\n",
    "\n"
   ]
  },
  {
   "cell_type": "code",
   "execution_count": 11,
   "id": "4cba6c39",
   "metadata": {},
   "outputs": [],
   "source": [
    "result = adfuller(df['Passengers'])\n"
   ]
  },
  {
   "cell_type": "markdown",
   "id": "0a8a07c7",
   "metadata": {},
   "source": [
    "Store our results in a dataframe display it\n",
    "\n"
   ]
  },
  {
   "cell_type": "code",
   "execution_count": 12,
   "id": "78dc7d9e",
   "metadata": {},
   "outputs": [
    {
     "name": "stdout",
     "output_type": "stream",
     "text": [
      "Statistiques ADF : 0.8153688792060497\n",
      "p-value : 0.991880243437641\n",
      "Valeurs Critiques :\n",
      "\t1%: -3.4816817173418295\n",
      "\t5%: -2.8840418343195267\n",
      "\t10%: -2.578770059171598\n"
     ]
    }
   ],
   "source": [
    "print('Statistiques ADF : {}'.format(result[0]))\n",
    "print('p-value : {}'.format(result[1]))\n",
    "print('Valeurs Critiques :')\n",
    "for key, value in result[4].items():\n",
    "    print('\\t{}: {}'.format(key, value))"
   ]
  },
  {
   "cell_type": "markdown",
   "id": "6c4382ef",
   "metadata": {},
   "source": [
    "Explain the results\n",
    "\n"
   ]
  },
  {
   "cell_type": "code",
   "execution_count": 13,
   "id": "6a2130fb",
   "metadata": {},
   "outputs": [],
   "source": [
    "# here we have a p_value greater than 5%, so we can say that the time series data is stationnary\n",
    "# ADF is far from the critique value"
   ]
  },
  {
   "cell_type": "markdown",
   "id": "086490c3",
   "metadata": {},
   "source": [
    "Autocorrelation Checking for autocorrelation in time series data is another important part of the analytic process. This is a measure of how correlated time series data is at a given point in time with past values, which has huge implications across many industries. For example, if our passenger data has strong autocorrelation, we can assume that high passenger numbers today suggest a strong likelihood that they will be high tomorrow as well. Please calculate and show the autocorrelation"
   ]
  },
  {
   "cell_type": "code",
   "execution_count": 14,
   "id": "0584d029",
   "metadata": {},
   "outputs": [
    {
     "data": {
      "image/png": "[encoded data removed]",
      "text/plain": [
       "<Figure size 432x288 with 1 Axes>"
      ]
     },
     "metadata": {
      "needs_background": "light"
     },
     "output_type": "display_data"
    }
   ],
   "source": [
    "\n",
    "plot_acf(df['Passengers'],lags=25)\n",
    "plt.show()"
   ]
  },
  {
   "cell_type": "code",
   "execution_count": 15,
   "id": "57d09710",
   "metadata": {},
   "outputs": [],
   "source": [
    "# the  FIRST 13 lags are greater than  the  confidence interval so tey are statistically significant.\n"
   ]
  },
  {
   "cell_type": "code",
   "execution_count": 16,
   "id": "662a4195",
   "metadata": {},
   "outputs": [
    {
     "data": {
      "image/png": "[encoded data removed]",
      "text/plain": [
       "<Figure size 432x288 with 1 Axes>"
      ]
     },
     "metadata": {
      "needs_background": "light"
     },
     "output_type": "display_data"
    }
   ],
   "source": [
    "plot_pacf(df['Passengers'],lags=25)\n",
    "plt.show()"
   ]
  },
  {
   "cell_type": "code",
   "execution_count": 17,
   "id": "67fbc758",
   "metadata": {},
   "outputs": [],
   "source": [
    "# the 2 first lags are greater than confidence interval, so we can say that are statistically significant."
   ]
  },
  {
   "cell_type": "markdown",
   "id": "b558f7b9",
   "metadata": {},
   "source": [
    "Decomposition Trend decomposition is another useful way to visualize the trends in time series data. To proceed, let’s import seasonal_decompose from the statsmodels package: from statsmodels.tsa.seasonal import seasonal_decompose"
   ]
  },
  {
   "cell_type": "code",
   "execution_count": 18,
   "id": "8af328e8",
   "metadata": {},
   "outputs": [],
   "source": [
    "from statsmodels.tsa.seasonal import seasonal_decompose\n",
    "import statsmodels.api as sm\n"
   ]
  },
  {
   "cell_type": "markdown",
   "id": "3e2daa2c",
   "metadata": {},
   "source": [
    "Next, let’s pass our data frame into the seasonal_decompose method and plot the result: decompose = decompose.plot() plt.show()"
   ]
  },
  {
   "cell_type": "code",
   "execution_count": 29,
   "id": "706c77d0",
   "metadata": {},
   "outputs": [
    {
     "name": "stderr",
     "output_type": "stream",
     "text": [
      "C:\\Users\\Mtime\\AppData\\Local\\Temp/ipykernel_20848/1975430102.py:4: FutureWarning: the 'freq'' keyword is deprecated, use 'period' instead\n",
      "  result= sm.tsa.seasonal_decompose(df['Passengers'], freq=60)\n"
     ]
    },
    {
     "data": {
      "image/png": "[encoded data removed]",
      "text/plain": [
       "<Figure size 432x288 with 4 Axes>"
      ]
     },
     "metadata": {
      "needs_background": "light"
     },
     "output_type": "display_data"
    }
   ],
   "source": [
    "#decomposition = sm.tsa.seasonal_decompose(df['Passengers'], freq = 60) \n",
    "#decomposition.plot\n",
    "#plt.show()\n",
    "result= sm.tsa.seasonal_decompose(df['Passengers'], freq=60)\n",
    "result.plot()\n",
    "plt.show()"
   ]
  },
  {
   "cell_type": "markdown",
   "id": "06fcfe40",
   "metadata": {},
   "source": [
    "Let's check the models on our dataset. Please note, if the dataset is non-stationary, you need to make it stationary\n",
    "\n"
   ]
  },
  {
   "cell_type": "code",
   "execution_count": 20,
   "id": "7555f0a5",
   "metadata": {},
   "outputs": [
    {
     "data": {
      "text/html": [
       "<div>\n",
       "<style scoped>\n",
       "    .dataframe tbody tr th:only-of-type {\n",
       "        vertical-align: middle;\n",
       "    }\n",
       "\n",
       "    .dataframe tbody tr th {\n",
       "        vertical-align: top;\n",
       "    }\n",
       "\n",
       "    .dataframe thead th {\n",
       "        text-align: right;\n",
       "    }\n",
       "</style>\n",
       "<table border=\"1\" class=\"dataframe\">\n",
       "  <thead>\n",
       "    <tr style=\"text-align: right;\">\n",
       "      <th></th>\n",
       "      <th>Month</th>\n",
       "      <th>Passengers</th>\n",
       "      <th>Difference</th>\n",
       "    </tr>\n",
       "  </thead>\n",
       "  <tbody>\n",
       "    <tr>\n",
       "      <th>1</th>\n",
       "      <td>1949-02</td>\n",
       "      <td>118</td>\n",
       "      <td>6.0</td>\n",
       "    </tr>\n",
       "    <tr>\n",
       "      <th>2</th>\n",
       "      <td>1949-03</td>\n",
       "      <td>132</td>\n",
       "      <td>14.0</td>\n",
       "    </tr>\n",
       "    <tr>\n",
       "      <th>3</th>\n",
       "      <td>1949-04</td>\n",
       "      <td>129</td>\n",
       "      <td>-3.0</td>\n",
       "    </tr>\n",
       "    <tr>\n",
       "      <th>4</th>\n",
       "      <td>1949-05</td>\n",
       "      <td>121</td>\n",
       "      <td>-8.0</td>\n",
       "    </tr>\n",
       "    <tr>\n",
       "      <th>5</th>\n",
       "      <td>1949-06</td>\n",
       "      <td>135</td>\n",
       "      <td>14.0</td>\n",
       "    </tr>\n",
       "  </tbody>\n",
       "</table>\n",
       "</div>"
      ],
      "text/plain": [
       "     Month  Passengers  Difference\n",
       "1  1949-02         118         6.0\n",
       "2  1949-03         132        14.0\n",
       "3  1949-04         129        -3.0\n",
       "4  1949-05         121        -8.0\n",
       "5  1949-06         135        14.0"
      ]
     },
     "execution_count": 20,
     "metadata": {},
     "output_type": "execute_result"
    }
   ],
   "source": [
    "df['Difference'] = df['Passengers'].diff()\n",
    "df = df.drop(df.index[0])\n",
    "df.head()"
   ]
  },
  {
   "cell_type": "markdown",
   "id": "e6a8698b",
   "metadata": {},
   "source": [
    "MA(1)"
   ]
  },
  {
   "cell_type": "code",
   "execution_count": 35,
   "id": "4627beec",
   "metadata": {},
   "outputs": [
    {
     "data": {
      "text/html": [
       "<div>\n",
       "<style scoped>\n",
       "    .dataframe tbody tr th:only-of-type {\n",
       "        vertical-align: middle;\n",
       "    }\n",
       "\n",
       "    .dataframe tbody tr th {\n",
       "        vertical-align: top;\n",
       "    }\n",
       "\n",
       "    .dataframe thead th {\n",
       "        text-align: right;\n",
       "    }\n",
       "</style>\n",
       "<table border=\"1\" class=\"dataframe\">\n",
       "  <thead>\n",
       "    <tr style=\"text-align: right;\">\n",
       "      <th></th>\n",
       "      <th>Month</th>\n",
       "      <th>Passengers</th>\n",
       "      <th>Difference</th>\n",
       "      <th>Diff_log</th>\n",
       "    </tr>\n",
       "  </thead>\n",
       "  <tbody>\n",
       "    <tr>\n",
       "      <th>1</th>\n",
       "      <td>1949-02</td>\n",
       "      <td>281.993347</td>\n",
       "      <td>6.0</td>\n",
       "      <td>5.641883</td>\n",
       "    </tr>\n",
       "    <tr>\n",
       "      <th>2</th>\n",
       "      <td>1949-03</td>\n",
       "      <td>200.044079</td>\n",
       "      <td>14.0</td>\n",
       "      <td>5.298538</td>\n",
       "    </tr>\n",
       "    <tr>\n",
       "      <th>3</th>\n",
       "      <td>1949-04</td>\n",
       "      <td>236.674316</td>\n",
       "      <td>-3.0</td>\n",
       "      <td>5.466685</td>\n",
       "    </tr>\n",
       "    <tr>\n",
       "      <th>4</th>\n",
       "      <td>1949-05</td>\n",
       "      <td>201.346423</td>\n",
       "      <td>-8.0</td>\n",
       "      <td>5.305027</td>\n",
       "    </tr>\n",
       "    <tr>\n",
       "      <th>5</th>\n",
       "      <td>1949-06</td>\n",
       "      <td>217.827473</td>\n",
       "      <td>14.0</td>\n",
       "      <td>5.383703</td>\n",
       "    </tr>\n",
       "  </tbody>\n",
       "</table>\n",
       "</div>"
      ],
      "text/plain": [
       "     Month  Passengers  Difference  Diff_log\n",
       "1  1949-02  281.993347         6.0  5.641883\n",
       "2  1949-03  200.044079        14.0  5.298538\n",
       "3  1949-04  236.674316        -3.0  5.466685\n",
       "4  1949-05  201.346423        -8.0  5.305027\n",
       "5  1949-06  217.827473        14.0  5.383703"
      ]
     },
     "execution_count": 35,
     "metadata": {},
     "output_type": "execute_result"
    }
   ],
   "source": [
    "import numpy as np\n",
    "df['Diff_log'] = np.log(df['Passengers']) \n",
    "df.head()"
   ]
  },
  {
   "cell_type": "code",
   "execution_count": 36,
   "id": "b1d62a02",
   "metadata": {},
   "outputs": [
    {
     "name": "stdout",
     "output_type": "stream",
     "text": [
      "ADF Test Statistic: -0.43\n",
      "5% Critical Value: -2.88\n",
      "p-value: 0.90\n"
     ]
    }
   ],
   "source": [
    "#Ad fuller to check stationary with Diff method\n",
    "result = adfuller(df.Diff_log)\n",
    "\n",
    "print('ADF Test Statistic: %.2f' % result[0]) #critical value from statistics\n",
    "print('5%% Critical Value: %.2f' % result[4]['5%']) # critical value from table\n",
    "print('p-value: %.2f' % result[1])#Ad fuller to check stationary with Diff method\n",
    "result = adfuller(df.Difference)\n",
    "\n"
   ]
  },
  {
   "cell_type": "code",
   "execution_count": 37,
   "id": "54858574",
   "metadata": {},
   "outputs": [
    {
     "name": "stdout",
     "output_type": "stream",
     "text": [
      "ADF Test Statistic: -2.83\n",
      "5% Critical Value: -2.88\n",
      "p-value: 0.05\n"
     ]
    },
    {
     "data": {
      "text/plain": [
       "(-2.8292668241699963,\n",
       " 0.05421329028382592,\n",
       " 12,\n",
       " 130,\n",
       " {'1%': -3.4816817173418295,\n",
       "  '5%': -2.8840418343195267,\n",
       "  '10%': -2.578770059171598},\n",
       " 988.5069317854084)"
      ]
     },
     "execution_count": 37,
     "metadata": {},
     "output_type": "execute_result"
    }
   ],
   "source": [
    "#Ad fuller to check stationary with Diff method\n",
    "result = adfuller(df.Difference)\n",
    "\n",
    "print('ADF Test Statistic: %.2f' % result[0]) #critical value from statistics\n",
    "print('5%% Critical Value: %.2f' % result[4]['5%']) # critical value from table\n",
    "print('p-value: %.2f' % result[1])#Ad fuller to check stationary with Diff method\n",
    "result"
   ]
  },
  {
   "cell_type": "code",
   "execution_count": 39,
   "id": "6719714f",
   "metadata": {},
   "outputs": [
    {
     "data": {
      "image/png": "[encoded data removed]",
      "text/plain": [
       "<Figure size 1080x540 with 1 Axes>"
      ]
     },
     "metadata": {
      "needs_background": "light"
     },
     "output_type": "display_data"
    }
   ],
   "source": [
    "plt.figure(figsize=[15, 7.5]); # Set dimensions for figure\n",
    "plt.plot(df['Difference'])\n",
    "plt.title(\"Difference\")\n",
    "plt.show()"
   ]
  },
  {
   "cell_type": "markdown",
   "id": "8ae4bd8f",
   "metadata": {},
   "source": [
    "Split DATA"
   ]
  },
  {
   "cell_type": "code",
   "execution_count": 42,
   "id": "5b9adf39",
   "metadata": {},
   "outputs": [],
   "source": [
    "#we need to split our data (the difference column) to try our model\n",
    "X = df.Difference\n",
    "split = 2*round(len(X) / 3)\n",
    "\n",
    "train,  test =X[0:split], X[split:]  # split the data in 2 subsets to check that our means and variances are not the same\n",
    "\n",
    "#train = 96\n",
    "# test = 47"
   ]
  },
  {
   "cell_type": "markdown",
   "id": "11743bd9",
   "metadata": {},
   "source": [
    " AR(1)"
   ]
  },
  {
   "cell_type": "code",
   "execution_count": 44,
   "id": "fbca1e2e",
   "metadata": {},
   "outputs": [
    {
     "name": "stderr",
     "output_type": "stream",
     "text": [
      "C:\\Users\\Mtime\\anaconda3\\lib\\site-packages\\statsmodels\\tsa\\base\\tsa_model.py:578: ValueWarning: An unsupported index was provided and will be ignored when e.g. forecasting.\n",
      "  warnings.warn('An unsupported index was provided and will be'\n"
     ]
    }
   ],
   "source": [
    "# We try a model called Moving average MA --> MA(1) means the order = (0,1) and MA(2) means the order = (0,2)\n",
    "from statsmodels.tsa.arima_model import ARMA\n",
    "\n",
    "model = ARMA(train.dropna(), order=(0,1))  #We do the model with the train\n",
    "result = model.fit()"
   ]
  },
  {
   "cell_type": "markdown",
   "id": "7977fc5a",
   "metadata": {},
   "source": [
    "Display the Output"
   ]
  },
  {
   "cell_type": "code",
   "execution_count": 45,
   "id": "4ae5b6e2",
   "metadata": {},
   "outputs": [
    {
     "data": {
      "text/html": [
       "<table class=\"simpletable\">\n",
       "<caption>ARMA Model Results</caption>\n",
       "<tr>\n",
       "  <th>Dep. Variable:</th>    <td>Difference</td>    <th>  No. Observations:  </th>    <td>96</td>   \n",
       "</tr>\n",
       "<tr>\n",
       "  <th>Model:</th>            <td>ARMA(0, 1)</td>    <th>  Log Likelihood     </th> <td>-432.980</td>\n",
       "</tr>\n",
       "<tr>\n",
       "  <th>Method:</th>             <td>css-mle</td>     <th>  S.D. of innovations</th>  <td>21.987</td> \n",
       "</tr>\n",
       "<tr>\n",
       "  <th>Date:</th>          <td>Sun, 23 Jan 2022</td> <th>  AIC                </th>  <td>871.961</td>\n",
       "</tr>\n",
       "<tr>\n",
       "  <th>Time:</th>              <td>02:36:30</td>     <th>  BIC                </th>  <td>879.654</td>\n",
       "</tr>\n",
       "<tr>\n",
       "  <th>Sample:</th>                <td>0</td>        <th>  HQIC               </th>  <td>875.071</td>\n",
       "</tr>\n",
       "<tr>\n",
       "  <th></th>                       <td> </td>        <th>                     </th>     <td> </td>   \n",
       "</tr>\n",
       "</table>\n",
       "<table class=\"simpletable\">\n",
       "<tr>\n",
       "          <td></td>            <th>coef</th>     <th>std err</th>      <th>z</th>      <th>P>|z|</th>  <th>[0.025</th>    <th>0.975]</th>  \n",
       "</tr>\n",
       "<tr>\n",
       "  <th>const</th>            <td>    2.0768</td> <td>    3.084</td> <td>    0.673</td> <td> 0.501</td> <td>   -3.968</td> <td>    8.122</td>\n",
       "</tr>\n",
       "<tr>\n",
       "  <th>ma.L1.Difference</th> <td>    0.3782</td> <td>    0.116</td> <td>    3.270</td> <td> 0.001</td> <td>    0.151</td> <td>    0.605</td>\n",
       "</tr>\n",
       "</table>\n",
       "<table class=\"simpletable\">\n",
       "<caption>Roots</caption>\n",
       "<tr>\n",
       "    <td></td>   <th>            Real</th>  <th>         Imaginary</th> <th>         Modulus</th>  <th>        Frequency</th>\n",
       "</tr>\n",
       "<tr>\n",
       "  <th>MA.1</th> <td>          -2.6444</td> <td>          +0.0000j</td> <td>           2.6444</td> <td>           0.5000</td>\n",
       "</tr>\n",
       "</table>"
      ],
      "text/plain": [
       "<class 'statsmodels.iolib.summary.Summary'>\n",
       "\"\"\"\n",
       "                              ARMA Model Results                              \n",
       "==============================================================================\n",
       "Dep. Variable:             Difference   No. Observations:                   96\n",
       "Model:                     ARMA(0, 1)   Log Likelihood                -432.980\n",
       "Method:                       css-mle   S.D. of innovations             21.987\n",
       "Date:                Sun, 23 Jan 2022   AIC                            871.961\n",
       "Time:                        02:36:30   BIC                            879.654\n",
       "Sample:                             0   HQIC                           875.071\n",
       "                                                                              \n",
       "====================================================================================\n",
       "                       coef    std err          z      P>|z|      [0.025      0.975]\n",
       "------------------------------------------------------------------------------------\n",
       "const                2.0768      3.084      0.673      0.501      -3.968       8.122\n",
       "ma.L1.Difference     0.3782      0.116      3.270      0.001       0.151       0.605\n",
       "                                    Roots                                    \n",
       "=============================================================================\n",
       "                  Real          Imaginary           Modulus         Frequency\n",
       "-----------------------------------------------------------------------------\n",
       "MA.1           -2.6444           +0.0000j            2.6444            0.5000\n",
       "-----------------------------------------------------------------------------\n",
       "\"\"\""
      ]
     },
     "execution_count": 45,
     "metadata": {},
     "output_type": "execute_result"
    }
   ],
   "source": [
    "result.summary()"
   ]
  },
  {
   "cell_type": "code",
   "execution_count": 48,
   "id": "6f457dd6",
   "metadata": {},
   "outputs": [
    {
     "data": {
      "text/plain": [
       "array([-14.        , -13.63648381, -13.49751853, -13.80913603,\n",
       "       -13.89437934, -13.49282947, -13.51831219, -13.75421251,\n",
       "       -13.96810523, -14.05512536, -14.01717954, -13.49059674,\n",
       "       -13.80926188, -13.54892251, -13.48092868, -13.86398311,\n",
       "       -13.92974576, -13.31036826, -13.37617512, -13.75679682,\n",
       "       -13.96805824, -14.20058076, -14.08726217, -13.27114069,\n",
       "       -13.66779744, -13.6605855 , -13.24253481, -14.03195391,\n",
       "       -13.5812372 , -13.64397751, -13.3701095 , -13.7569071 ,\n",
       "       -14.02260169, -14.14504361, -14.03372648, -13.38120497,\n",
       "       -13.66579627, -13.58789461, -13.51658373, -13.97242575,\n",
       "       -13.70959226, -13.11437105, -13.54337507, -13.535575  ,\n",
       "       -14.35389864, -14.06629275, -14.08970377, -13.34382357,\n",
       "       -13.72102139, -13.75052688, -13.02271769, -13.78140513,\n",
       "       -13.85851991, -13.49348146, -13.37284579, -13.6114028 ,\n",
       "       -14.38888359, -14.21111121, -14.30525252, -13.35808632,\n",
       "       -13.70258025, -14.04177127, -12.89014961, -13.91108819,\n",
       "       -13.6197984 , -13.20691276, -13.06896522, -13.92601881,\n",
       "       -14.36498148, -14.28427306, -14.21301322, -13.26885431,\n",
       "       -13.52238447, -13.91777483, -13.12876773, -13.7249315 ,\n",
       "       -13.73227397, -12.93214047, -12.87396108, -14.07501889,\n",
       "       -14.3804542 , -14.42944629, -14.4103737 , -12.99253866,\n",
       "       -13.65468112, -13.8790058 , -13.02038171, -13.83599306,\n",
       "       -13.6575274 , -12.7334995 , -13.05939092, -13.90801107,\n",
       "       -14.65621798, -14.6244324 , -14.37046487, -13.10235518])"
      ]
     },
     "execution_count": 48,
     "metadata": {},
     "output_type": "execute_result"
    }
   ],
   "source": [
    "model.predict(test)"
   ]
  },
  {
   "cell_type": "code",
   "execution_count": 49,
   "id": "0e8b5617",
   "metadata": {},
   "outputs": [
    {
     "data": {
      "text/plain": [
       "97     -14.0\n",
       "98      55.0\n",
       "99      -8.0\n",
       "100      7.0\n",
       "101     67.0\n",
       "102     43.0\n",
       "103      2.0\n",
       "104    -63.0\n",
       "105    -57.0\n",
       "106    -42.0\n",
       "107     31.0\n",
       "108      4.0\n",
       "109    -22.0\n",
       "110     44.0\n",
       "111    -14.0\n",
       "112     15.0\n",
       "113     72.0\n",
       "114     56.0\n",
       "115     14.0\n",
       "116   -101.0\n",
       "117    -45.0\n",
       "118    -49.0\n",
       "119     27.0\n",
       "120     23.0\n",
       "121    -18.0\n",
       "122     64.0\n",
       "123    -10.0\n",
       "124     24.0\n",
       "125     52.0\n",
       "126     76.0\n",
       "127     11.0\n",
       "128    -96.0\n",
       "129    -56.0\n",
       "130    -45.0\n",
       "131     43.0\n",
       "132     12.0\n",
       "133    -26.0\n",
       "134     28.0\n",
       "135     42.0\n",
       "136     11.0\n",
       "137     63.0\n",
       "138     87.0\n",
       "139    -16.0\n",
       "140    -98.0\n",
       "141    -47.0\n",
       "142    -71.0\n",
       "143     42.0\n",
       "Name: Difference, dtype: float64"
      ]
     },
     "execution_count": 49,
     "metadata": {},
     "output_type": "execute_result"
    }
   ],
   "source": [
    "#we need to compare the test \n",
    "test"
   ]
  },
  {
   "cell_type": "markdown",
   "id": "44c315e7",
   "metadata": {},
   "source": [
    "MA(2)"
   ]
  },
  {
   "cell_type": "code",
   "execution_count": 50,
   "id": "eb6a7e75",
   "metadata": {},
   "outputs": [
    {
     "name": "stderr",
     "output_type": "stream",
     "text": [
      "C:\\Users\\Mtime\\anaconda3\\lib\\site-packages\\statsmodels\\tsa\\arima_model.py:472: FutureWarning: \n",
      "statsmodels.tsa.arima_model.ARMA and statsmodels.tsa.arima_model.ARIMA have\n",
      "been deprecated in favor of statsmodels.tsa.arima.model.ARIMA (note the .\n",
      "between arima and model) and\n",
      "statsmodels.tsa.SARIMAX. These will be removed after the 0.12 release.\n",
      "\n",
      "statsmodels.tsa.arima.model.ARIMA makes use of the statespace framework and\n",
      "is both well tested and maintained.\n",
      "\n",
      "To silence this warning and continue using ARMA and ARIMA until they are\n",
      "removed, use:\n",
      "\n",
      "import warnings\n",
      "warnings.filterwarnings('ignore', 'statsmodels.tsa.arima_model.ARMA',\n",
      "                        FutureWarning)\n",
      "warnings.filterwarnings('ignore', 'statsmodels.tsa.arima_model.ARIMA',\n",
      "                        FutureWarning)\n",
      "\n",
      "  warnings.warn(ARIMA_DEPRECATION_WARN, FutureWarning)\n",
      "C:\\Users\\Mtime\\anaconda3\\lib\\site-packages\\statsmodels\\tsa\\base\\tsa_model.py:578: ValueWarning: An unsupported index was provided and will be ignored when e.g. forecasting.\n",
      "  warnings.warn('An unsupported index was provided and will be'\n"
     ]
    }
   ],
   "source": [
    "model = ARMA(train.dropna(), order=(0,2))\n",
    "result = model.fit()"
   ]
  },
  {
   "cell_type": "code",
   "execution_count": 56,
   "id": "86840e03",
   "metadata": {},
   "outputs": [
    {
     "data": {
      "text/html": [
       "<table class=\"simpletable\">\n",
       "<caption>ARMA Model Results</caption>\n",
       "<tr>\n",
       "  <th>Dep. Variable:</th>    <td>Difference</td>    <th>  No. Observations:  </th>    <td>96</td>   \n",
       "</tr>\n",
       "<tr>\n",
       "  <th>Model:</th>            <td>ARMA(0, 2)</td>    <th>  Log Likelihood     </th> <td>-431.089</td>\n",
       "</tr>\n",
       "<tr>\n",
       "  <th>Method:</th>             <td>css-mle</td>     <th>  S.D. of innovations</th>  <td>21.534</td> \n",
       "</tr>\n",
       "<tr>\n",
       "  <th>Date:</th>          <td>Sun, 23 Jan 2022</td> <th>  AIC                </th>  <td>870.179</td>\n",
       "</tr>\n",
       "<tr>\n",
       "  <th>Time:</th>              <td>02:39:38</td>     <th>  BIC                </th>  <td>880.436</td>\n",
       "</tr>\n",
       "<tr>\n",
       "  <th>Sample:</th>                <td>0</td>        <th>  HQIC               </th>  <td>874.325</td>\n",
       "</tr>\n",
       "<tr>\n",
       "  <th></th>                       <td> </td>        <th>                     </th>     <td> </td>   \n",
       "</tr>\n",
       "</table>\n",
       "<table class=\"simpletable\">\n",
       "<tr>\n",
       "          <td></td>            <th>coef</th>     <th>std err</th>      <th>z</th>      <th>P>|z|</th>  <th>[0.025</th>    <th>0.975]</th>  \n",
       "</tr>\n",
       "<tr>\n",
       "  <th>const</th>            <td>    1.9912</td> <td>    2.168</td> <td>    0.919</td> <td> 0.358</td> <td>   -2.258</td> <td>    6.240</td>\n",
       "</tr>\n",
       "<tr>\n",
       "  <th>ma.L1.Difference</th> <td>    0.2857</td> <td>    0.125</td> <td>    2.286</td> <td> 0.022</td> <td>    0.041</td> <td>    0.531</td>\n",
       "</tr>\n",
       "<tr>\n",
       "  <th>ma.L2.Difference</th> <td>   -0.3027</td> <td>    0.164</td> <td>   -1.844</td> <td> 0.065</td> <td>   -0.624</td> <td>    0.019</td>\n",
       "</tr>\n",
       "</table>\n",
       "<table class=\"simpletable\">\n",
       "<caption>Roots</caption>\n",
       "<tr>\n",
       "    <td></td>   <th>            Real</th>  <th>         Imaginary</th> <th>         Modulus</th>  <th>        Frequency</th>\n",
       "</tr>\n",
       "<tr>\n",
       "  <th>MA.1</th> <td>          -1.4058</td> <td>          +0.0000j</td> <td>           1.4058</td> <td>           0.5000</td>\n",
       "</tr>\n",
       "<tr>\n",
       "  <th>MA.2</th> <td>           2.3496</td> <td>          +0.0000j</td> <td>           2.3496</td> <td>           0.0000</td>\n",
       "</tr>\n",
       "</table>"
      ],
      "text/plain": [
       "<class 'statsmodels.iolib.summary.Summary'>\n",
       "\"\"\"\n",
       "                              ARMA Model Results                              \n",
       "==============================================================================\n",
       "Dep. Variable:             Difference   No. Observations:                   96\n",
       "Model:                     ARMA(0, 2)   Log Likelihood                -431.089\n",
       "Method:                       css-mle   S.D. of innovations             21.534\n",
       "Date:                Sun, 23 Jan 2022   AIC                            870.179\n",
       "Time:                        02:39:38   BIC                            880.436\n",
       "Sample:                             0   HQIC                           874.325\n",
       "                                                                              \n",
       "====================================================================================\n",
       "                       coef    std err          z      P>|z|      [0.025      0.975]\n",
       "------------------------------------------------------------------------------------\n",
       "const                1.9912      2.168      0.919      0.358      -2.258       6.240\n",
       "ma.L1.Difference     0.2857      0.125      2.286      0.022       0.041       0.531\n",
       "ma.L2.Difference    -0.3027      0.164     -1.844      0.065      -0.624       0.019\n",
       "                                    Roots                                    \n",
       "=============================================================================\n",
       "                  Real          Imaginary           Modulus         Frequency\n",
       "-----------------------------------------------------------------------------\n",
       "MA.1           -1.4058           +0.0000j            1.4058            0.5000\n",
       "MA.2            2.3496           +0.0000j            2.3496            0.0000\n",
       "-----------------------------------------------------------------------------\n",
       "\"\"\""
      ]
     },
     "execution_count": 56,
     "metadata": {},
     "output_type": "execute_result"
    }
   ],
   "source": [
    "result.summary()"
   ]
  },
  {
   "cell_type": "code",
   "execution_count": 57,
   "id": "466429a1",
   "metadata": {},
   "outputs": [
    {
     "name": "stderr",
     "output_type": "stream",
     "text": [
      "C:\\Users\\Mtime\\anaconda3\\lib\\site-packages\\statsmodels\\tsa\\arima_model.py:472: FutureWarning: \n",
      "statsmodels.tsa.arima_model.ARMA and statsmodels.tsa.arima_model.ARIMA have\n",
      "been deprecated in favor of statsmodels.tsa.arima.model.ARIMA (note the .\n",
      "between arima and model) and\n",
      "statsmodels.tsa.SARIMAX. These will be removed after the 0.12 release.\n",
      "\n",
      "statsmodels.tsa.arima.model.ARIMA makes use of the statespace framework and\n",
      "is both well tested and maintained.\n",
      "\n",
      "To silence this warning and continue using ARMA and ARIMA until they are\n",
      "removed, use:\n",
      "\n",
      "import warnings\n",
      "warnings.filterwarnings('ignore', 'statsmodels.tsa.arima_model.ARMA',\n",
      "                        FutureWarning)\n",
      "warnings.filterwarnings('ignore', 'statsmodels.tsa.arima_model.ARIMA',\n",
      "                        FutureWarning)\n",
      "\n",
      "  warnings.warn(ARIMA_DEPRECATION_WARN, FutureWarning)\n",
      "C:\\Users\\Mtime\\anaconda3\\lib\\site-packages\\statsmodels\\tsa\\base\\tsa_model.py:578: ValueWarning: An unsupported index was provided and will be ignored when e.g. forecasting.\n",
      "  warnings.warn('An unsupported index was provided and will be'\n"
     ]
    }
   ],
   "source": [
    "# Try a AR(2) model\n",
    "model = ARMA(train, order=(2, 0))\n",
    "result = model.fit"
   ]
  },
  {
   "cell_type": "code",
   "execution_count": 68,
   "id": "bebb61e3",
   "metadata": {},
   "outputs": [
    {
     "ename": "AttributeError",
     "evalue": "'Series' object has no attribute 'Difference'",
     "output_type": "error",
     "traceback": [
      "\u001b[1;31m---------------------------------------------------------------------------\u001b[0m",
      "\u001b[1;31mAttributeError\u001b[0m                            Traceback (most recent call last)",
      "\u001b[1;32m~\\AppData\\Local\\Temp/ipykernel_20848/1149230225.py\u001b[0m in \u001b[0;36m<module>\u001b[1;34m\u001b[0m\n\u001b[0;32m      1\u001b[0m \u001b[1;31m#ARMA(AR, MA) = ARMA(2,2)\u001b[0m\u001b[1;33m\u001b[0m\u001b[1;33m\u001b[0m\u001b[0m\n\u001b[1;32m----> 2\u001b[1;33m \u001b[0msimulated_ARMA_df\u001b[0m \u001b[1;33m=\u001b[0m \u001b[0mArmaProcess\u001b[0m\u001b[1;33m(\u001b[0m\u001b[0mtrain\u001b[0m\u001b[1;33m.\u001b[0m\u001b[0mDifference\u001b[0m\u001b[1;33m,\u001b[0m \u001b[0mMA1\u001b[0m\u001b[1;33m)\u001b[0m\u001b[1;33m\u001b[0m\u001b[1;33m\u001b[0m\u001b[0m\n\u001b[0m",
      "\u001b[1;32m~\\anaconda3\\lib\\site-packages\\pandas\\core\\generic.py\u001b[0m in \u001b[0;36m__getattr__\u001b[1;34m(self, name)\u001b[0m\n\u001b[0;32m   5485\u001b[0m         ):\n\u001b[0;32m   5486\u001b[0m             \u001b[1;32mreturn\u001b[0m \u001b[0mself\u001b[0m\u001b[1;33m[\u001b[0m\u001b[0mname\u001b[0m\u001b[1;33m]\u001b[0m\u001b[1;33m\u001b[0m\u001b[1;33m\u001b[0m\u001b[0m\n\u001b[1;32m-> 5487\u001b[1;33m         \u001b[1;32mreturn\u001b[0m \u001b[0mobject\u001b[0m\u001b[1;33m.\u001b[0m\u001b[0m__getattribute__\u001b[0m\u001b[1;33m(\u001b[0m\u001b[0mself\u001b[0m\u001b[1;33m,\u001b[0m \u001b[0mname\u001b[0m\u001b[1;33m)\u001b[0m\u001b[1;33m\u001b[0m\u001b[1;33m\u001b[0m\u001b[0m\n\u001b[0m\u001b[0;32m   5488\u001b[0m \u001b[1;33m\u001b[0m\u001b[0m\n\u001b[0;32m   5489\u001b[0m     \u001b[1;32mdef\u001b[0m \u001b[0m__setattr__\u001b[0m\u001b[1;33m(\u001b[0m\u001b[0mself\u001b[0m\u001b[1;33m,\u001b[0m \u001b[0mname\u001b[0m\u001b[1;33m:\u001b[0m \u001b[0mstr\u001b[0m\u001b[1;33m,\u001b[0m \u001b[0mvalue\u001b[0m\u001b[1;33m)\u001b[0m \u001b[1;33m->\u001b[0m \u001b[1;32mNone\u001b[0m\u001b[1;33m:\u001b[0m\u001b[1;33m\u001b[0m\u001b[1;33m\u001b[0m\u001b[0m\n",
      "\u001b[1;31mAttributeError\u001b[0m: 'Series' object has no attribute 'Difference'"
     ]
    }
   ],
   "source": [
    "#ARMA(AR, MA) = ARMA(2,2)\n",
    "simulated_ARMA_df = ArmaProcess(df['Difference'], ma1)"
   ]
  },
  {
   "cell_type": "code",
   "execution_count": 65,
   "id": "26ebd09c",
   "metadata": {},
   "outputs": [
    {
     "name": "stderr",
     "output_type": "stream",
     "text": [
      "C:\\Users\\Mtime\\anaconda3\\lib\\site-packages\\statsmodels\\tsa\\arima_model.py:472: FutureWarning: \n",
      "statsmodels.tsa.arima_model.ARMA and statsmodels.tsa.arima_model.ARIMA have\n",
      "been deprecated in favor of statsmodels.tsa.arima.model.ARIMA (note the .\n",
      "between arima and model) and\n",
      "statsmodels.tsa.SARIMAX. These will be removed after the 0.12 release.\n",
      "\n",
      "statsmodels.tsa.arima.model.ARIMA makes use of the statespace framework and\n",
      "is both well tested and maintained.\n",
      "\n",
      "To silence this warning and continue using ARMA and ARIMA until they are\n",
      "removed, use:\n",
      "\n",
      "import warnings\n",
      "warnings.filterwarnings('ignore', 'statsmodels.tsa.arima_model.ARMA',\n",
      "                        FutureWarning)\n",
      "warnings.filterwarnings('ignore', 'statsmodels.tsa.arima_model.ARIMA',\n",
      "                        FutureWarning)\n",
      "\n",
      "  warnings.warn(ARIMA_DEPRECATION_WARN, FutureWarning)\n"
     ]
    },
    {
     "data": {
      "text/html": [
       "<table class=\"simpletable\">\n",
       "<caption>ARIMA Model Results</caption>\n",
       "<tr>\n",
       "  <th>Dep. Variable:</th>   <td>D.Passengers</td>   <th>  No. Observations:  </th>    <td>143</td>  \n",
       "</tr>\n",
       "<tr>\n",
       "  <th>Model:</th>          <td>ARIMA(2, 1, 2)</td>  <th>  Log Likelihood     </th> <td>-666.022</td>\n",
       "</tr>\n",
       "<tr>\n",
       "  <th>Method:</th>             <td>css-mle</td>     <th>  S.D. of innovations</th>  <td>24.715</td> \n",
       "</tr>\n",
       "<tr>\n",
       "  <th>Date:</th>          <td>Sun, 23 Jan 2022</td> <th>  AIC                </th> <td>1344.043</td>\n",
       "</tr>\n",
       "<tr>\n",
       "  <th>Time:</th>              <td>02:47:49</td>     <th>  BIC                </th> <td>1361.820</td>\n",
       "</tr>\n",
       "<tr>\n",
       "  <th>Sample:</th>                <td>1</td>        <th>  HQIC               </th> <td>1351.267</td>\n",
       "</tr>\n",
       "<tr>\n",
       "  <th></th>                       <td> </td>        <th>                     </th>     <td> </td>   \n",
       "</tr>\n",
       "</table>\n",
       "<table class=\"simpletable\">\n",
       "<tr>\n",
       "           <td></td>             <th>coef</th>     <th>std err</th>      <th>z</th>      <th>P>|z|</th>  <th>[0.025</th>    <th>0.975]</th>  \n",
       "</tr>\n",
       "<tr>\n",
       "  <th>const</th>              <td>    2.5311</td> <td>    0.708</td> <td>    3.574</td> <td> 0.000</td> <td>    1.143</td> <td>    3.919</td>\n",
       "</tr>\n",
       "<tr>\n",
       "  <th>ar.L1.D.Passengers</th> <td>    1.6477</td> <td>    0.033</td> <td>   49.933</td> <td> 0.000</td> <td>    1.583</td> <td>    1.712</td>\n",
       "</tr>\n",
       "<tr>\n",
       "  <th>ar.L2.D.Passengers</th> <td>   -0.9094</td> <td>    0.033</td> <td>  -27.880</td> <td> 0.000</td> <td>   -0.973</td> <td>   -0.845</td>\n",
       "</tr>\n",
       "<tr>\n",
       "  <th>ma.L1.D.Passengers</th> <td>   -1.9098</td> <td>    0.065</td> <td>  -29.511</td> <td> 0.000</td> <td>   -2.037</td> <td>   -1.783</td>\n",
       "</tr>\n",
       "<tr>\n",
       "  <th>ma.L2.D.Passengers</th> <td>    0.9996</td> <td>    0.068</td> <td>   14.808</td> <td> 0.000</td> <td>    0.867</td> <td>    1.132</td>\n",
       "</tr>\n",
       "</table>\n",
       "<table class=\"simpletable\">\n",
       "<caption>Roots</caption>\n",
       "<tr>\n",
       "    <td></td>   <th>            Real</th>  <th>         Imaginary</th> <th>         Modulus</th>  <th>        Frequency</th>\n",
       "</tr>\n",
       "<tr>\n",
       "  <th>AR.1</th> <td>           0.9059</td> <td>          -0.5281j</td> <td>           1.0486</td> <td>          -0.0840</td>\n",
       "</tr>\n",
       "<tr>\n",
       "  <th>AR.2</th> <td>           0.9059</td> <td>          +0.5281j</td> <td>           1.0486</td> <td>           0.0840</td>\n",
       "</tr>\n",
       "<tr>\n",
       "  <th>MA.1</th> <td>           0.9552</td> <td>          -0.2965j</td> <td>           1.0002</td> <td>          -0.0479</td>\n",
       "</tr>\n",
       "<tr>\n",
       "  <th>MA.2</th> <td>           0.9552</td> <td>          +0.2965j</td> <td>           1.0002</td> <td>           0.0479</td>\n",
       "</tr>\n",
       "</table>"
      ],
      "text/plain": [
       "<class 'statsmodels.iolib.summary.Summary'>\n",
       "\"\"\"\n",
       "                             ARIMA Model Results                              \n",
       "==============================================================================\n",
       "Dep. Variable:           D.Passengers   No. Observations:                  143\n",
       "Model:                 ARIMA(2, 1, 2)   Log Likelihood                -666.022\n",
       "Method:                       css-mle   S.D. of innovations             24.715\n",
       "Date:                Sun, 23 Jan 2022   AIC                           1344.043\n",
       "Time:                        02:47:49   BIC                           1361.820\n",
       "Sample:                             1   HQIC                          1351.267\n",
       "                                                                              \n",
       "======================================================================================\n",
       "                         coef    std err          z      P>|z|      [0.025      0.975]\n",
       "--------------------------------------------------------------------------------------\n",
       "const                  2.5311      0.708      3.574      0.000       1.143       3.919\n",
       "ar.L1.D.Passengers     1.6477      0.033     49.933      0.000       1.583       1.712\n",
       "ar.L2.D.Passengers    -0.9094      0.033    -27.880      0.000      -0.973      -0.845\n",
       "ma.L1.D.Passengers    -1.9098      0.065    -29.511      0.000      -2.037      -1.783\n",
       "ma.L2.D.Passengers     0.9996      0.068     14.808      0.000       0.867       1.132\n",
       "                                    Roots                                    \n",
       "=============================================================================\n",
       "                  Real          Imaginary           Modulus         Frequency\n",
       "-----------------------------------------------------------------------------\n",
       "AR.1            0.9059           -0.5281j            1.0486           -0.0840\n",
       "AR.2            0.9059           +0.5281j            1.0486            0.0840\n",
       "MA.1            0.9552           -0.2965j            1.0002           -0.0479\n",
       "MA.2            0.9552           +0.2965j            1.0002            0.0479\n",
       "-----------------------------------------------------------------------------\n",
       "\"\"\""
      ]
     },
     "execution_count": 65,
     "metadata": {},
     "output_type": "execute_result"
    }
   ],
   "source": [
    "#ARIMA()\n",
    "from statsmodels.tsa.arima_model import ARIMA\n",
    "model=ARIMA(df['Passengers'],order=(2,1,2))  #I is the number of columns\n",
    "model_fit=model.fit()\n",
    "model_fit.summary()"
   ]
  },
  {
   "cell_type": "code",
   "execution_count": null,
   "id": "4c4e992a",
   "metadata": {},
   "outputs": [],
   "source": []
  }
 ],
 "metadata": {
  "kernelspec": {
   "display_name": "Python 3 (ipykernel)",
   "language": "python",
   "name": "python3"
  },
  "language_info": {
   "codemirror_mode": {
    "name": "ipython",
    "version": 3
   },
   "file_extension": ".py",
   "mimetype": "text/x-python",
   "name": "python",
   "nbconvert_exporter": "python",
   "pygments_lexer": "ipython3",
   "version": "3.9.7"
  }
 },
 "nbformat": 4,
 "nbformat_minor": 5
}
