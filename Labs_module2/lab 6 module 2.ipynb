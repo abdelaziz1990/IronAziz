{
 "cells": [
  {
   "cell_type": "code",
   "execution_count": 78,
   "id": "c90819d4",
   "metadata": {},
   "outputs": [
    {
     "data": {
      "text/plain": [
       "(172.14308590115726, 174.79024743217607)"
      ]
     },
     "execution_count": 78,
     "metadata": {},
     "output_type": "execute_result"
    }
   ],
   "source": [
    "#challenge 1:\n",
    "from scipy import stats\n",
    "\n",
    "import numpy as np\n",
    "import math\n",
    "heights = [167, 167, 168, 168, 168, 169, 171, 172, 173, 175, 175, 175, 177, 182, 195]\n",
    "mean = np.mean(heights)\n",
    "std=4\n",
    "\n",
    "se = std/math.sqrt( len(heights))\n",
    "\n",
    "stats.norm.interval(0.8, loc = mean, scale = se)"
   ]
  },
  {
   "cell_type": "code",
   "execution_count": 42,
   "id": "9f55bd43",
   "metadata": {},
   "outputs": [
    {
     "name": "stdout",
     "output_type": "stream",
     "text": [
      "interval for the proportion of businesses in the area with 80% (0.20248138545542083, 0.3118043288302934)\n",
      "interval for the proportion of businesses in the area with 90% (0.1869856177645281, 0.3273000965211861)\n"
     ]
    }
   ],
   "source": [
    "#Challenge 2:\n",
    "n = 105 \n",
    "p = 27/105\n",
    "SE = math.sqrt((p*(1-p)/n))\n",
    "print(\"interval for the proportion of businesses in the area with 80%\", stats.norm.interval(0.8, loc = p, scale = SE) )\n",
    "print(\"interval for the proportion of businesses in the area with 90%\", stats.norm.interval(0.9, loc = p , scale = SE))"
   ]
  },
  {
   "cell_type": "code",
   "execution_count": 87,
   "id": "352530ea",
   "metadata": {},
   "outputs": [
    {
     "data": {
      "text/plain": [
       "(57.08618693934489, 74.20034686039612)"
      ]
     },
     "execution_count": 87,
     "metadata": {},
     "output_type": "execute_result"
    }
   ],
   "source": [
    "#Challenge3 :\n",
    "from statsmodels.stats.proportion import proportion_confint   \n",
    "df=len(heights)-1\n",
    "std=np.std(heights)\n",
    "var=std**2\n",
    "var\n",
    "stats.chi2.interval(0.9, df,var)\n"
   ]
  },
  {
   "cell_type": "code",
   "execution_count": 101,
   "id": "51dc1889",
   "metadata": {},
   "outputs": [
    {
     "data": {
      "text/plain": [
       "(7.5530881512083194, 12.44691184879168)"
      ]
     },
     "execution_count": 101,
     "metadata": {},
     "output_type": "execute_result"
    }
   ],
   "source": [
    "#Challenge 4 - More practice\n",
    "acid = [9.8, 10.2, 10.4, 9.8, 10.0, 10.2, 9.6]\n",
    "df = len(acid)-1\n",
    "mean = np.mean(acid)\n",
    "\n",
    "i = stats.t.interval(0.95, df, mean)\n",
    "i"
   ]
  },
  {
   "cell_type": "code",
   "execution_count": null,
   "id": "84058bb0",
   "metadata": {},
   "outputs": [],
   "source": []
  }
 ],
 "metadata": {
  "kernelspec": {
   "display_name": "Python 3 (ipykernel)",
   "language": "python",
   "name": "python3"
  },
  "language_info": {
   "codemirror_mode": {
    "name": "ipython",
    "version": 3
   },
   "file_extension": ".py",
   "mimetype": "text/x-python",
   "name": "python",
   "nbconvert_exporter": "python",
   "pygments_lexer": "ipython3",
   "version": "3.9.7"
  }
 },
 "nbformat": 4,
 "nbformat_minor": 5
}
