{
 "cells": [
  {
   "cell_type": "markdown",
   "id": "f4e9c66c",
   "metadata": {},
   "source": [
    "# Lab_11_Module_2_Introduction To Probability\n"
   ]
  },
  {
   "cell_type": "markdown",
   "id": "aa0a0046",
   "metadata": {},
   "source": [
    "\n",
    "# Challenge 1:\n",
    "   "
   ]
  },
  {
   "cell_type": "markdown",
   "id": "d6dae53b",
   "metadata": {},
   "source": [
    "P(A∪B)=0.6 is FALSE: \n",
    "    P(A∪B) = P(A) + P(B) - P(A∩B) = 0.3 + 0.6 - 0.1 = 0.8\n",
    "    \n",
    "P(A∩BC)=0.2 is TRUE:\n",
    "    P(A∩BC) = P(A)-P(A∩B) = 0.3 - 0.1 = 0.2\n",
    "\n",
    "P(A∩(B∪B𝐶))=0.4 is FALSE:\n",
    "    B∪B𝐶 = 1, therefore P(A∩(B∪B𝐶)) = P(A) = 0.3\n",
    "\n",
    "P(AC∩BC)=0.3 is FALSE:\n",
    "    P(A∩B) = P((A∪B)C) = 1 - P(A∪B) = 1 - 0.8 = 0.2\n",
    " \n",
    "P((A∩B)𝐶)= 0.9 is TRUE\n",
    "    P((A∩B)𝐶) = 1 - P(A∩B) = 1 - 0.1 = 0.9"
   ]
  },
  {
   "cell_type": "markdown",
   "id": "fb389dbb",
   "metadata": {},
   "source": [
    "# Challenge 2:"
   ]
  },
  {
   "cell_type": "markdown",
   "id": "2bf2c501",
   "metadata": {},
   "source": [
    "Taking a white ball out. \n",
    "    P = 10/(10+12+8)=10/30=1/3\n",
    "    \n",
    "Taking a white ball out after taking a black ball out. \n",
    "    P = 10/29\n",
    "    \n",
    "Taking a red ball out after taking a black and a red ball out \n",
    "    P = 11/28 \n",
    "    \n",
    "Taking a red ball out after taking a black and a red ball out with reposition. \n",
    "    P = 12/30"
   ]
  },
  {
   "cell_type": "markdown",
   "id": "8a0b27ea",
   "metadata": {},
   "source": [
    "#  Challenge 3:\n"
   ]
  },
  {
   "cell_type": "markdown",
   "id": "e68d2154",
   "metadata": {},
   "source": [
    "R=rainy; C=cloudy\n",
    "    \n",
    "P(R)=0.1; P(C)= 0.4; P(C|R)=0.5\n",
    "\n",
    "P(R|C) = (P(C|R)*P(R)) / P(C) = (0.5*0.1)/0.4 = 0.125\n"
   ]
  },
  {
   "cell_type": "markdown",
   "id": "fa57b506",
   "metadata": {},
   "source": [
    "# Challenge 4"
   ]
  },
  {
   "cell_type": "code",
   "execution_count": 23,
   "id": "c9c3dc2e",
   "metadata": {},
   "outputs": [
    {
     "data": {
      "text/html": [
       "<div>\n",
       "<style scoped>\n",
       "    .dataframe tbody tr th:only-of-type {\n",
       "        vertical-align: middle;\n",
       "    }\n",
       "\n",
       "    .dataframe tbody tr th {\n",
       "        vertical-align: top;\n",
       "    }\n",
       "\n",
       "    .dataframe thead th {\n",
       "        text-align: right;\n",
       "    }\n",
       "</style>\n",
       "<table border=\"1\" class=\"dataframe\">\n",
       "  <thead>\n",
       "    <tr style=\"text-align: right;\">\n",
       "      <th></th>\n",
       "      <th>Gender</th>\n",
       "      <th>Yes</th>\n",
       "      <th>No</th>\n",
       "      <th>Total_number</th>\n",
       "      <th>perc_yes</th>\n",
       "    </tr>\n",
       "  </thead>\n",
       "  <tbody>\n",
       "    <tr>\n",
       "      <th>0</th>\n",
       "      <td>Male</td>\n",
       "      <td>324</td>\n",
       "      <td>156</td>\n",
       "      <td>480</td>\n",
       "      <td>67.5</td>\n",
       "    </tr>\n",
       "    <tr>\n",
       "      <th>1</th>\n",
       "      <td>Female</td>\n",
       "      <td>351</td>\n",
       "      <td>169</td>\n",
       "      <td>520</td>\n",
       "      <td>67.5</td>\n",
       "    </tr>\n",
       "  </tbody>\n",
       "</table>\n",
       "</div>"
      ],
      "text/plain": [
       "   Gender  Yes   No  Total_number  perc_yes\n",
       "0    Male  324  156           480      67.5\n",
       "1  Female  351  169           520      67.5"
      ]
     },
     "execution_count": 23,
     "metadata": {},
     "output_type": "execute_result"
    }
   ],
   "source": [
    "import pandas as pd \n",
    "df = pd.DataFrame({'Gender': ['Male', 'Female'],\n",
    "                   'Yes': [324, 351], \n",
    "                   'No': [156, 169], \n",
    "                   'Total_number': [480, 520]})\n",
    "df[\"perc_yes\"] = df[\"Yes\"]/df[\"Total_number\"]*100\n",
    "df"
   ]
  },
  {
   "cell_type": "markdown",
   "id": "1522f589",
   "metadata": {},
   "source": [
    "the two events is independente"
   ]
  },
  {
   "cell_type": "code",
   "execution_count": null,
   "id": "b2c6af9e",
   "metadata": {},
   "outputs": [],
   "source": []
  }
 ],
 "metadata": {
  "kernelspec": {
   "display_name": "Python 3 (ipykernel)",
   "language": "python",
   "name": "python3"
  },
  "language_info": {
   "codemirror_mode": {
    "name": "ipython",
    "version": 3
   },
   "file_extension": ".py",
   "mimetype": "text/x-python",
   "name": "python",
   "nbconvert_exporter": "python",
   "pygments_lexer": "ipython3",
   "version": "3.9.7"
  }
 },
 "nbformat": 4,
 "nbformat_minor": 5
}
