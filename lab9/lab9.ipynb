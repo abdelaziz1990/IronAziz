{
 "cells": [
  {
   "cell_type": "markdown",
   "metadata": {},
   "source": [
    "# Loops\n",
    "\n",
    "Complete the following set of exercises to solidify your knowledge for Loops."
   ]
  },
  {
   "cell_type": "markdown",
   "metadata": {},
   "source": [
    "#### 1. Print first 10 natural numbers using while loop"
   ]
  },
  {
   "cell_type": "code",
   "execution_count": 3,
   "metadata": {},
   "outputs": [
    {
     "name": "stdout",
     "output_type": "stream",
     "text": [
      "1\n",
      "2\n",
      "3\n",
      "4\n",
      "5\n",
      "6\n",
      "7\n",
      "8\n",
      "9\n"
     ]
    }
   ],
   "source": [
    "for i in range(1,10):\n",
    "    print(i)"
   ]
  },
  {
   "cell_type": "markdown",
   "metadata": {},
   "source": [
    "#### 2. Display numbers from a list using loop\n",
    "Write a program to display only those numbers from a list that satisfy the following conditions\n",
    "\n",
    "The number must be divisible by five\n",
    "\n",
    "If the number is greater than 150, then skip it and move to the next number\n",
    "\n",
    "If the number is greater than 500, then stop the loop\n",
    "\n",
    "numbers = [12, 75, 150, 180, 145, 525, 50]"
   ]
  },
  {
   "cell_type": "code",
   "execution_count": 13,
   "metadata": {},
   "outputs": [
    {
     "name": "stdout",
     "output_type": "stream",
     "text": [
      "12\n",
      "75\n",
      "150\n",
      "145\n",
      "50\n"
     ]
    }
   ],
   "source": [
    "numbers = [12, 75, 150, 180, 145, 525, 50]\n",
    "for number in numbers:\n",
    "    if number %5 ==0:\n",
    "        if number>150:\n",
    "            continue \n",
    "    elif number >500 :\n",
    "        break\n",
    "    print(number)"
   ]
  },
  {
   "cell_type": "markdown",
   "metadata": {},
   "source": [
    "#### 3.Write a Python program to check the validity of a password (input from users).\n",
    "\n",
    "Validation :\n",
    "\n",
    "At least 1 letter between [a-z] and 1 letter between [A-Z].\n",
    "\n",
    "At least 1 number between [0-9].\n",
    "\n",
    "At least 1 character from [$#@].\n",
    "\n",
    "Minimum length 6 characters.\n",
    "\n",
    "Maximum length 16 characters."
   ]
  },
  {
   "cell_type": "code",
   "execution_count": 21,
   "metadata": {},
   "outputs": [
    {
     "name": "stdout",
     "output_type": "stream",
     "text": [
      "Not a Valid Password\n"
     ]
    }
   ],
   "source": [
    "import re\n",
    "password = \"R@m@_f0rtu9e$\"\n",
    "flag = 0\n",
    "while True:  \n",
    "    if (len(password)<9):\n",
    "        flag = -1\n",
    "        break\n",
    "    elif not re.search(\"[a-z]\", password):\n",
    "        flag = -1\n",
    "        break\n",
    "    elif not re.search(\"[A-Z]\", password):\n",
    "        flag = -1\n",
    "        break\n",
    "    elif not re.search(\"[0-9]\", password):\n",
    "        flag = -1\n",
    "        break\n",
    "    elif not re.search(\"[_@$]\", password):\n",
    "        flag = -1\n",
    "        break\n",
    "    elif not i in re.findall(r'[a-z]{6,}', password):\n",
    "        flag = -1\n",
    "        break\n",
    "    elif not i in re.findall(r'[a-z]{,16}', password):\n",
    "        flag = -1\n",
    "        break\n",
    "    else:\n",
    "        flag = 0\n",
    "        print(\"Valid Password\")\n",
    "        break\n",
    "  \n",
    "if flag ==-1:\n",
    "    print(\"Not a Valid Password\")"
   ]
  },
  {
   "cell_type": "markdown",
   "metadata": {},
   "source": [
    "#### 4. Break the loop when x is 6, and see what happens with the else block"
   ]
  },
  {
   "cell_type": "code",
   "execution_count": 26,
   "metadata": {},
   "outputs": [],
   "source": [
    "x = 10\n",
    "while x == 6 :  \n",
    "    print(x)\n",
    "    "
   ]
  },
  {
   "cell_type": "markdown",
   "metadata": {},
   "source": [
    "#### 5. Write a Python program to calculate the sum and average of n integer numbers (input from the user). Input 0 to finish.\n"
   ]
  },
  {
   "cell_type": "code",
   "execution_count": 42,
   "metadata": {},
   "outputs": [
    {
     "name": "stdout",
     "output_type": "stream",
     "text": [
      "Enter number25\n",
      "Sum of first  25 numbers is:  325\n",
      "Average of  25 numbers is:  13.0\n"
     ]
    }
   ],
   "source": [
    "n = int(input(\"Enter number\"))\n",
    "sum = 0\n",
    "# loop from 1 to n\n",
    "for num in range(1, n + 1, 1):\n",
    "    sum = sum + num\n",
    "print(\"Sum of first \", n, \"numbers is: \", sum)\n",
    "average = sum / n\n",
    "print(\"Average of \", n, \"numbers is: \", average)"
   ]
  },
  {
   "cell_type": "code",
   "execution_count": null,
   "metadata": {},
   "outputs": [],
   "source": []
  },
  {
   "cell_type": "code",
   "execution_count": null,
   "metadata": {},
   "outputs": [],
   "source": []
  }
 ],
 "metadata": {
  "kernelspec": {
   "display_name": "Python 3",
   "language": "python",
   "name": "python3"
  },
  "language_info": {
   "codemirror_mode": {
    "name": "ipython",
    "version": 3
   },
   "file_extension": ".py",
   "mimetype": "text/x-python",
   "name": "python",
   "nbconvert_exporter": "python",
   "pygments_lexer": "ipython3",
   "version": "3.8.8"
  }
 },
 "nbformat": 4,
 "nbformat_minor": 2
}
