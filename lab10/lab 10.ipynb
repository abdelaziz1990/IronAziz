{
 "cells": [
  {
   "cell_type": "code",
   "execution_count": 13,
   "id": "e1279212",
   "metadata": {},
   "outputs": [
    {
     "data": {
      "text/plain": [
       "17"
      ]
     },
     "execution_count": 13,
     "metadata": {},
     "output_type": "execute_result"
    }
   ],
   "source": [
    "\n",
    "def count_sheeps(arrayOfSheeps):\n",
    "    amount = 0\n",
    "    for sheep in arrayOfSheeps:\n",
    "        if (sheep == True):\n",
    "            amount += 1\n",
    "    return amount\n",
    "\n",
    "arrayofSheeps = [True,  True,  True,  False,\n",
    "  True,  True,  True,  True ,\n",
    "  True,  False, True,  False,\n",
    "  True,  False, False, True ,\n",
    "  True,  True,  True,  True ,\n",
    "  False, False, True,  True]\n",
    "count_sheeps(arrayofSheeps)"
   ]
  },
  {
   "cell_type": "code",
   "execution_count": 21,
   "id": "ce1d70a0",
   "metadata": {},
   "outputs": [
    {
     "data": {
      "text/plain": [
       "['Keep', 'Keep', 'Keep']"
      ]
     },
     "execution_count": 21,
     "metadata": {},
     "output_type": "execute_result"
    }
   ],
   "source": [
    "def remov(x):\n",
    "    del x[1::2]\n",
    "    return x\n",
    "remov([\"Keep\", \"Remove\", \"Keep\", \"Remove\", \"Keep\"])\n"
   ]
  },
  {
   "cell_type": "code",
   "execution_count": 40,
   "id": "4ab95b30",
   "metadata": {},
   "outputs": [
    {
     "name": "stdout",
     "output_type": "stream",
     "text": [
      "[5, 3, 2, 1]\n"
     ]
    }
   ],
   "source": [
    "numA = 1235\n",
    "res = [int(x) for x in str(numA)]\n",
    "reversed(res)\n",
    "print(res[::-1])"
   ]
  },
  {
   "cell_type": "code",
   "execution_count": 42,
   "id": "109441d5",
   "metadata": {},
   "outputs": [
    {
     "data": {
      "text/plain": [
       "811181"
      ]
     },
     "execution_count": 42,
     "metadata": {},
     "output_type": "execute_result"
    }
   ],
   "source": [
    "def sq(num):\n",
    "    z = ''.join(str(int(i)**2) for i in str(num))\n",
    "    return int(z)\n",
    "sq(9119)"
   ]
  },
  {
   "cell_type": "code",
   "execution_count": null,
   "id": "caefa9d8",
   "metadata": {},
   "outputs": [],
   "source": []
  }
 ],
 "metadata": {
  "kernelspec": {
   "display_name": "Python 3",
   "language": "python",
   "name": "python3"
  },
  "language_info": {
   "codemirror_mode": {
    "name": "ipython",
    "version": 3
   },
   "file_extension": ".py",
   "mimetype": "text/x-python",
   "name": "python",
   "nbconvert_exporter": "python",
   "pygments_lexer": "ipython3",
   "version": "3.8.8"
  }
 },
 "nbformat": 4,
 "nbformat_minor": 5
}
