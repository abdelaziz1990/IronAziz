{
 "cells": [
  {
   "cell_type": "code",
   "execution_count": 48,
   "id": "e8787c57",
   "metadata": {},
   "outputs": [
    {
     "data": {
      "text/plain": [
       "[53.6, 73.4, 100.4, -67.0, 75.2]"
      ]
     },
     "execution_count": 48,
     "metadata": {},
     "output_type": "execute_result"
    }
   ],
   "source": [
    "def modify_list(lst, lmbda):\n",
    "    return lmdba ==9/5*x + 32\n",
    "lst  = [12, 23, 38, -55, 24]\n",
    "lmbda = map(lambda x: 9/5*x + 32, lst)\n",
    "list(lmbda)\n"
   ]
  },
  {
   "cell_type": "code",
   "execution_count": 50,
   "id": "fc44889f",
   "metadata": {},
   "outputs": [
    {
     "data": {
      "text/plain": [
       "0"
      ]
     },
     "execution_count": 50,
     "metadata": {},
     "output_type": "execute_result"
    }
   ],
   "source": [
    "mod = lambda x,y : 1 if x%y == 0 else 0\n",
    "mod(2,5)"
   ]
  },
  {
   "cell_type": "code",
   "execution_count": 4,
   "id": "c04a1527",
   "metadata": {},
   "outputs": [
    {
     "data": {
      "text/plain": [
       "True"
      ]
     },
     "execution_count": 4,
     "metadata": {},
     "output_type": "execute_result"
    }
   ],
   "source": [
    "def divisor5(b):\n",
    "    return b%5==0\n",
    "divisor5(10)"
   ]
  },
  {
   "cell_type": "code",
   "execution_count": 5,
   "id": "f5e27f46",
   "metadata": {},
   "outputs": [
    {
     "data": {
      "text/plain": [
       "False"
      ]
     },
     "execution_count": 5,
     "metadata": {},
     "output_type": "execute_result"
    }
   ],
   "source": [
    "divisor5(8)"
   ]
  },
  {
   "cell_type": "code",
   "execution_count": 17,
   "id": "27cae15d",
   "metadata": {},
   "outputs": [],
   "source": [
    "list1 = ['Green', 'cheese', 'English', 'tomato']\n",
    "list2 = ['eggs', 'cheese', 'cucumber', 'tomato']"
   ]
  },
  {
   "cell_type": "code",
   "execution_count": 20,
   "id": "a5d5167b",
   "metadata": {},
   "outputs": [
    {
     "data": {
      "text/plain": [
       "[('Engineering', 'Lab'),\n",
       " ('Computer Science', 'Homework'),\n",
       " ('Political Science', 'Essay'),\n",
       " ('Mathematics', 'Module')]"
      ]
     },
     "execution_count": 20,
     "metadata": {},
     "output_type": "execute_result"
    }
   ],
   "source": [
    "\n",
    "list_3 = list(map(lambda x : x , zip(list1, list2)))\n",
    "\n",
    "list_3"
   ]
  },
  {
   "cell_type": "code",
   "execution_count": 21,
   "id": "b034193f",
   "metadata": {},
   "outputs": [],
   "source": [
    "list1 = ['Engineering', 'Computer Science', 'Political Science', 'Mathematics']\n",
    "list2 = ['Lab', 'Homework', 'Essay', 'Module']"
   ]
  },
  {
   "cell_type": "code",
   "execution_count": 27,
   "id": "d905726a",
   "metadata": {},
   "outputs": [
    {
     "data": {
      "text/plain": [
       "[('Computer Science', 'Homework'),\n",
       " ('Engineering', 'Lab'),\n",
       " ('Mathematics', 'Module'),\n",
       " ('Political Science', 'Essay')]"
      ]
     },
     "execution_count": 27,
     "metadata": {},
     "output_type": "execute_result"
    }
   ],
   "source": [
    "list_4 = sorted(list(map(lambda x : x[:2], zip(list1,list2))))\n",
    "list_4"
   ]
  },
  {
   "cell_type": "code",
   "execution_count": 36,
   "id": "427d24c2",
   "metadata": {},
   "outputs": [
    {
     "name": "stdout",
     "output_type": "stream",
     "text": [
      "{'Toyota': 1995, 'Honda': 1997, 'Audi': 2001, 'BMW': 2005}\n"
     ]
    }
   ],
   "source": [
    "d = {'Honda': 1997, 'Toyota': 1995, 'Audi': 2001, 'BMW': 2005}\n",
    "print({key: value for key, value in sorted(d.items(), key=lambda item: item[1])})\n"
   ]
  },
  {
   "cell_type": "code",
   "execution_count": null,
   "id": "6d61466e",
   "metadata": {},
   "outputs": [],
   "source": []
  }
 ],
 "metadata": {
  "kernelspec": {
   "display_name": "Python 3",
   "language": "python",
   "name": "python3"
  },
  "language_info": {
   "codemirror_mode": {
    "name": "ipython",
    "version": 3
   },
   "file_extension": ".py",
   "mimetype": "text/x-python",
   "name": "python",
   "nbconvert_exporter": "python",
   "pygments_lexer": "ipython3",
   "version": "3.8.8"
  }
 },
 "nbformat": 4,
 "nbformat_minor": 5
}
